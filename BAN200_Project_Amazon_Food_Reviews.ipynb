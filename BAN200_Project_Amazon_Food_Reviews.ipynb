{
 "cells": [
  {
   "cell_type": "markdown",
   "metadata": {
    "id": "NO8RFD8zdRko"
   },
   "source": [
    "\n",
    "\n",
    "---\n",
    "## <Font color='Blue'> BAN200 Sentiment Analysis and Text Mining</Font>\n",
    "---\n",
    "### Identifying helpfulness of reviews using Text Analytics on Amazon Food Reviews data\n",
    "---\n",
    "#### Group 8 : Pruthvi, Pratik, Ronn, Laher\n"
   ]
  },
  {
   "cell_type": "code",
   "execution_count": 1,
   "metadata": {},
   "outputs": [
    {
     "name": "stdout",
     "output_type": "stream",
     "text": [
      "Collecting tensorflowNote: you may need to restart the kernel to use updated packages.\n",
      "  Using cached tensorflow-2.5.0-cp38-cp38-win_amd64.whl (422.6 MB)\n",
      "Collecting keras-preprocessing~=1.1.2\n",
      "  Using cached Keras_Preprocessing-1.1.2-py2.py3-none-any.whl (42 kB)\n",
      "Requirement already satisfied: wheel~=0.35 in c:\\programdata\\anaconda3\\lib\\site-packages (from tensorflow) (0.36.2)\n",
      "\n",
      "Collecting gast==0.4.0\n",
      "  Using cached gast-0.4.0-py3-none-any.whl (9.8 kB)\n",
      "Requirement already satisfied: six~=1.15.0 in c:\\programdata\\anaconda3\\lib\\site-packages (from tensorflow) (1.15.0)\n",
      "Requirement already satisfied: typing-extensions~=3.7.4 in c:\\programdata\\anaconda3\\lib\\site-packages (from tensorflow) (3.7.4.3)\n",
      "Collecting termcolor~=1.1.0\n",
      "  Using cached termcolor-1.1.0-py3-none-any.whl\n",
      "Collecting astunparse~=1.6.3\n",
      "  Using cached astunparse-1.6.3-py2.py3-none-any.whl (12 kB)\n",
      "Collecting absl-py~=0.10\n",
      "  Using cached absl_py-0.13.0-py3-none-any.whl (132 kB)\n"
     ]
    },
    {
     "name": "stderr",
     "output_type": "stream",
     "text": [
      "ERROR: Could not install packages due to an OSError: [WinError 5] Access is denied: 'c:\\\\programdata\\\\anaconda3\\\\lib\\\\site-packages\\\\numpy-1.20.1.dist-info\\\\direct_url.json'\n",
      "Consider using the `--user` option or check the permissions.\n",
      "\n"
     ]
    },
    {
     "name": "stdout",
     "output_type": "stream",
     "text": [
      "Collecting grpcio~=1.34.0\n",
      "  Using cached grpcio-1.34.1-cp38-cp38-win_amd64.whl (2.9 MB)\n",
      "Collecting flatbuffers~=1.12.0\n",
      "  Using cached flatbuffers-1.12-py2.py3-none-any.whl (15 kB)\n",
      "Collecting opt-einsum~=3.3.0\n",
      "  Using cached opt_einsum-3.3.0-py3-none-any.whl (65 kB)\n",
      "Collecting h5py~=3.1.0\n",
      "  Using cached h5py-3.1.0-cp38-cp38-win_amd64.whl (2.7 MB)\n",
      "Collecting numpy~=1.19.2\n",
      "  Using cached numpy-1.19.5-cp38-cp38-win_amd64.whl (13.3 MB)\n",
      "Collecting tensorboard~=2.5\n",
      "  Using cached tensorboard-2.5.0-py3-none-any.whl (6.0 MB)\n",
      "Requirement already satisfied: wrapt~=1.12.1 in c:\\programdata\\anaconda3\\lib\\site-packages (from tensorflow) (1.12.1)\n",
      "Collecting google-pasta~=0.2\n",
      "  Using cached google_pasta-0.2.0-py3-none-any.whl (57 kB)\n",
      "Collecting keras-nightly~=2.5.0.dev\n",
      "  Using cached keras_nightly-2.5.0.dev2021032900-py2.py3-none-any.whl (1.2 MB)\n",
      "Collecting tensorflow-estimator<2.6.0,>=2.5.0rc0\n",
      "  Using cached tensorflow_estimator-2.5.0-py2.py3-none-any.whl (462 kB)\n",
      "Requirement already satisfied: protobuf>=3.9.2 in c:\\programdata\\anaconda3\\lib\\site-packages (from tensorflow) (3.17.3)\n",
      "Requirement already satisfied: tensorboard-data-server<0.7.0,>=0.6.0 in c:\\programdata\\anaconda3\\lib\\site-packages (from tensorboard~=2.5->tensorflow) (0.6.1)\n",
      "Requirement already satisfied: werkzeug>=0.11.15 in c:\\programdata\\anaconda3\\lib\\site-packages (from tensorboard~=2.5->tensorflow) (1.0.1)\n",
      "Requirement already satisfied: requests<3,>=2.21.0 in c:\\programdata\\anaconda3\\lib\\site-packages (from tensorboard~=2.5->tensorflow) (2.25.1)\n",
      "Requirement already satisfied: google-auth<2,>=1.6.3 in c:\\programdata\\anaconda3\\lib\\site-packages (from tensorboard~=2.5->tensorflow) (1.34.0)\n",
      "Collecting google-auth-oauthlib<0.5,>=0.4.1\n",
      "  Downloading google_auth_oauthlib-0.4.5-py2.py3-none-any.whl (18 kB)\n",
      "Requirement already satisfied: setuptools>=41.0.0 in c:\\programdata\\anaconda3\\lib\\site-packages (from tensorboard~=2.5->tensorflow) (52.0.0.post20210125)\n",
      "Requirement already satisfied: tensorboard-plugin-wit>=1.6.0 in c:\\programdata\\anaconda3\\lib\\site-packages (from tensorboard~=2.5->tensorflow) (1.8.0)\n",
      "Collecting markdown>=2.6.8\n",
      "  Using cached Markdown-3.3.4-py3-none-any.whl (97 kB)\n",
      "Requirement already satisfied: rsa<5,>=3.1.4 in c:\\programdata\\anaconda3\\lib\\site-packages (from google-auth<2,>=1.6.3->tensorboard~=2.5->tensorflow) (4.7.2)\n",
      "Requirement already satisfied: pyasn1-modules>=0.2.1 in c:\\programdata\\anaconda3\\lib\\site-packages (from google-auth<2,>=1.6.3->tensorboard~=2.5->tensorflow) (0.2.8)\n",
      "Requirement already satisfied: cachetools<5.0,>=2.0.0 in c:\\programdata\\anaconda3\\lib\\site-packages (from google-auth<2,>=1.6.3->tensorboard~=2.5->tensorflow) (4.2.2)\n",
      "Requirement already satisfied: requests-oauthlib>=0.7.0 in c:\\programdata\\anaconda3\\lib\\site-packages (from google-auth-oauthlib<0.5,>=0.4.1->tensorboard~=2.5->tensorflow) (1.3.0)\n",
      "Requirement already satisfied: pyasn1<0.5.0,>=0.4.6 in c:\\programdata\\anaconda3\\lib\\site-packages (from pyasn1-modules>=0.2.1->google-auth<2,>=1.6.3->tensorboard~=2.5->tensorflow) (0.4.8)\n",
      "Requirement already satisfied: idna<3,>=2.5 in c:\\programdata\\anaconda3\\lib\\site-packages (from requests<3,>=2.21.0->tensorboard~=2.5->tensorflow) (2.10)\n",
      "Requirement already satisfied: urllib3<1.27,>=1.21.1 in c:\\programdata\\anaconda3\\lib\\site-packages (from requests<3,>=2.21.0->tensorboard~=2.5->tensorflow) (1.26.4)\n",
      "Requirement already satisfied: certifi>=2017.4.17 in c:\\programdata\\anaconda3\\lib\\site-packages (from requests<3,>=2.21.0->tensorboard~=2.5->tensorflow) (2020.12.5)\n",
      "Requirement already satisfied: chardet<5,>=3.0.2 in c:\\programdata\\anaconda3\\lib\\site-packages (from requests<3,>=2.21.0->tensorboard~=2.5->tensorflow) (4.0.0)\n",
      "Requirement already satisfied: oauthlib>=3.0.0 in c:\\programdata\\anaconda3\\lib\\site-packages (from requests-oauthlib>=0.7.0->google-auth-oauthlib<0.5,>=0.4.1->tensorboard~=2.5->tensorflow) (3.1.1)\n",
      "Installing collected packages: numpy, markdown, grpcio, google-auth-oauthlib, absl-py, termcolor, tensorflow-estimator, tensorboard, opt-einsum, keras-preprocessing, keras-nightly, h5py, google-pasta, gast, flatbuffers, astunparse, tensorflow\n",
      "  Attempting uninstall: numpy\n",
      "    Found existing installation: numpy 1.20.1\n",
      "    Uninstalling numpy-1.20.1:\n"
     ]
    }
   ],
   "source": [
    "pip install tensorflow"
   ]
  },
  {
   "cell_type": "code",
   "execution_count": 2,
   "metadata": {},
   "outputs": [
    {
     "name": "stdout",
     "output_type": "stream",
     "text": [
      "Requirement already satisfied: keras in c:\\programdata\\anaconda3\\lib\\site-packages (2.4.3)\n",
      "Requirement already satisfied: pyyaml in c:\\programdata\\anaconda3\\lib\\site-packages (from keras) (5.4.1)\n",
      "Requirement already satisfied: h5py in c:\\programdata\\anaconda3\\lib\\site-packages (from keras) (2.10.0)\n",
      "Requirement already satisfied: numpy>=1.9.1 in c:\\programdata\\anaconda3\\lib\\site-packages (from keras) (1.20.1)\n",
      "Requirement already satisfied: scipy>=0.14 in c:\\programdata\\anaconda3\\lib\\site-packages (from keras) (1.6.2)\n",
      "Requirement already satisfied: six in c:\\programdata\\anaconda3\\lib\\site-packages (from h5py->keras) (1.15.0)\n",
      "Note: you may need to restart the kernel to use updated packages.\n"
     ]
    }
   ],
   "source": [
    "pip install keras"
   ]
  },
  {
   "cell_type": "code",
   "execution_count": 4,
   "metadata": {},
   "outputs": [
    {
     "name": "stdout",
     "output_type": "stream",
     "text": [
      "Collecting tensorflow-gpu\n",
      "  Downloading tensorflow_gpu-2.5.0-cp38-cp38-win_amd64.whl (422.6 MB)\n",
      "Collecting google-pasta~=0.2\n",
      "  Using cached google_pasta-0.2.0-py3-none-any.whl (57 kB)\n",
      "Note: you may need to restart the kernel to use updated packages.\n",
      "Collecting numpy~=1.19.2\n",
      "  Using cached numpy-1.19.5-cp38-cp38-win_amd64.whl (13.3 MB)\n",
      "Collecting flatbuffers~=1.12.0\n",
      "  Using cached flatbuffers-1.12-py2.py3-none-any.whl (15 kB)\n",
      "Requirement already satisfied: typing-extensions~=3.7.4 in c:\\programdata\\anaconda3\\lib\\site-packages (from tensorflow-gpu) (3.7.4.3)\n",
      "Collecting opt-einsum~=3.3.0\n",
      "  Using cached opt_einsum-3.3.0-py3-none-any.whl (65 kB)\n",
      "Collecting astunparse~=1.6.3\n",
      "  Using cached astunparse-1.6.3-py2.py3-none-any.whl (12 kB)\n",
      "Collecting tensorflow-estimator<2.6.0,>=2.5.0rc0\n",
      "  Using cached tensorflow_estimator-2.5.0-py2.py3-none-any.whl (462 kB)\n",
      "Collecting gast==0.4.0\n",
      "  Using cached gast-0.4.0-py3-none-any.whl (9.8 kB)\n",
      "Requirement already satisfied: wheel~=0.35 in c:\\programdata\\anaconda3\\lib\\site-packages (from tensorflow-gpu) (0.36.2)\n",
      "Requirement already satisfied: six~=1.15.0 in c:\\programdata\\anaconda3\\lib\\site-packages (from tensorflow-gpu) (1.15.0)\n",
      "Collecting tensorboard~=2.5\n",
      "  Using cached tensorboard-2.5.0-py3-none-any.whl (6.0 MB)\n",
      "Collecting absl-py~=0.10\n",
      "  Using cached absl_py-0.13.0-py3-none-any.whl (132 kB)\n",
      "Collecting keras-preprocessing~=1.1.2\n",
      "  Using cached Keras_Preprocessing-1.1.2-py2.py3-none-any.whl (42 kB)\n",
      "Collecting grpcio~=1.34.0\n",
      "  Using cached grpcio-1.34.1-cp38-cp38-win_amd64.whl (2.9 MB)\n",
      "Collecting h5py~=3.1.0\n",
      "  Using cached h5py-3.1.0-cp38-cp38-win_amd64.whl (2.7 MB)\n",
      "Collecting keras-nightly~=2.5.0.dev\n",
      "  Using cached keras_nightly-2.5.0.dev2021032900-py2.py3-none-any.whl (1.2 MB)\n",
      "Requirement already satisfied: wrapt~=1.12.1 in c:\\programdata\\anaconda3\\lib\\site-packages (from tensorflow-gpu) (1.12.1)\n",
      "Requirement already satisfied: protobuf>=3.9.2 in c:\\programdata\\anaconda3\\lib\\site-packages (from tensorflow-gpu) (3.17.3)\n",
      "Collecting termcolor~=1.1.0\n",
      "  Using cached termcolor-1.1.0-py3-none-any.whl"
     ]
    },
    {
     "name": "stderr",
     "output_type": "stream",
     "text": [
      "  WARNING: The script f2py.exe is installed in 'C:\\Users\\Pruthvi\\AppData\\Roaming\\Python\\Python38\\Scripts' which is not on PATH.\n",
      "  Consider adding this directory to PATH or, if you prefer to suppress this warning, use --no-warn-script-location.\n",
      "  WARNING: The script markdown_py.exe is installed in 'C:\\Users\\Pruthvi\\AppData\\Roaming\\Python\\Python38\\Scripts' which is not on PATH.\n",
      "  Consider adding this directory to PATH or, if you prefer to suppress this warning, use --no-warn-script-location.\n",
      "  WARNING: The script google-oauthlib-tool.exe is installed in 'C:\\Users\\Pruthvi\\AppData\\Roaming\\Python\\Python38\\Scripts' which is not on PATH.\n",
      "  Consider adding this directory to PATH or, if you prefer to suppress this warning, use --no-warn-script-location.\n",
      "  WARNING: The script tensorboard.exe is installed in 'C:\\Users\\Pruthvi\\AppData\\Roaming\\Python\\Python38\\Scripts' which is not on PATH.\n",
      "  Consider adding this directory to PATH or, if you prefer to suppress this warning, use --no-warn-script-location.\n",
      "  WARNING: The scripts estimator_ckpt_converter.exe, import_pb_to_tensorboard.exe, saved_model_cli.exe, tensorboard.exe, tf_upgrade_v2.exe, tflite_convert.exe, toco.exe and toco_from_protos.exe are installed in 'C:\\Users\\Pruthvi\\AppData\\Roaming\\Python\\Python38\\Scripts' which is not on PATH.\n",
      "  Consider adding this directory to PATH or, if you prefer to suppress this warning, use --no-warn-script-location.\n"
     ]
    },
    {
     "name": "stdout",
     "output_type": "stream",
     "text": [
      "\n",
      "Requirement already satisfied: setuptools>=41.0.0 in c:\\programdata\\anaconda3\\lib\\site-packages (from tensorboard~=2.5->tensorflow-gpu) (52.0.0.post20210125)\n",
      "Requirement already satisfied: tensorboard-data-server<0.7.0,>=0.6.0 in c:\\programdata\\anaconda3\\lib\\site-packages (from tensorboard~=2.5->tensorflow-gpu) (0.6.1)\n",
      "Requirement already satisfied: requests<3,>=2.21.0 in c:\\programdata\\anaconda3\\lib\\site-packages (from tensorboard~=2.5->tensorflow-gpu) (2.25.1)\n",
      "Requirement already satisfied: tensorboard-plugin-wit>=1.6.0 in c:\\programdata\\anaconda3\\lib\\site-packages (from tensorboard~=2.5->tensorflow-gpu) (1.8.0)\n",
      "Collecting markdown>=2.6.8\n",
      "  Using cached Markdown-3.3.4-py3-none-any.whl (97 kB)\n",
      "Requirement already satisfied: google-auth<2,>=1.6.3 in c:\\programdata\\anaconda3\\lib\\site-packages (from tensorboard~=2.5->tensorflow-gpu) (1.34.0)\n",
      "Requirement already satisfied: werkzeug>=0.11.15 in c:\\programdata\\anaconda3\\lib\\site-packages (from tensorboard~=2.5->tensorflow-gpu) (1.0.1)\n",
      "Collecting google-auth-oauthlib<0.5,>=0.4.1\n",
      "  Using cached google_auth_oauthlib-0.4.5-py2.py3-none-any.whl (18 kB)\n",
      "Requirement already satisfied: rsa<5,>=3.1.4 in c:\\programdata\\anaconda3\\lib\\site-packages (from google-auth<2,>=1.6.3->tensorboard~=2.5->tensorflow-gpu) (4.7.2)\n",
      "Requirement already satisfied: pyasn1-modules>=0.2.1 in c:\\programdata\\anaconda3\\lib\\site-packages (from google-auth<2,>=1.6.3->tensorboard~=2.5->tensorflow-gpu) (0.2.8)\n",
      "Requirement already satisfied: cachetools<5.0,>=2.0.0 in c:\\programdata\\anaconda3\\lib\\site-packages (from google-auth<2,>=1.6.3->tensorboard~=2.5->tensorflow-gpu) (4.2.2)\n",
      "Requirement already satisfied: requests-oauthlib>=0.7.0 in c:\\programdata\\anaconda3\\lib\\site-packages (from google-auth-oauthlib<0.5,>=0.4.1->tensorboard~=2.5->tensorflow-gpu) (1.3.0)\n",
      "Requirement already satisfied: pyasn1<0.5.0,>=0.4.6 in c:\\programdata\\anaconda3\\lib\\site-packages (from pyasn1-modules>=0.2.1->google-auth<2,>=1.6.3->tensorboard~=2.5->tensorflow-gpu) (0.4.8)\n",
      "Requirement already satisfied: idna<3,>=2.5 in c:\\programdata\\anaconda3\\lib\\site-packages (from requests<3,>=2.21.0->tensorboard~=2.5->tensorflow-gpu) (2.10)\n",
      "Requirement already satisfied: urllib3<1.27,>=1.21.1 in c:\\programdata\\anaconda3\\lib\\site-packages (from requests<3,>=2.21.0->tensorboard~=2.5->tensorflow-gpu) (1.26.4)\n",
      "Requirement already satisfied: certifi>=2017.4.17 in c:\\programdata\\anaconda3\\lib\\site-packages (from requests<3,>=2.21.0->tensorboard~=2.5->tensorflow-gpu) (2020.12.5)\n",
      "Requirement already satisfied: chardet<5,>=3.0.2 in c:\\programdata\\anaconda3\\lib\\site-packages (from requests<3,>=2.21.0->tensorboard~=2.5->tensorflow-gpu) (4.0.0)\n",
      "Requirement already satisfied: oauthlib>=3.0.0 in c:\\programdata\\anaconda3\\lib\\site-packages (from requests-oauthlib>=0.7.0->google-auth-oauthlib<0.5,>=0.4.1->tensorboard~=2.5->tensorflow-gpu) (3.1.1)\n",
      "Installing collected packages: numpy, markdown, grpcio, google-auth-oauthlib, absl-py, termcolor, tensorflow-estimator, tensorboard, opt-einsum, keras-preprocessing, keras-nightly, h5py, google-pasta, gast, flatbuffers, astunparse, tensorflow-gpu\n",
      "Successfully installed absl-py-0.13.0 astunparse-1.6.3 flatbuffers-1.12 gast-0.4.0 google-auth-oauthlib-0.4.5 google-pasta-0.2.0 grpcio-1.34.1 h5py-3.1.0 keras-nightly-2.5.0.dev2021032900 keras-preprocessing-1.1.2 markdown-3.3.4 numpy-1.19.5 opt-einsum-3.3.0 tensorboard-2.5.0 tensorflow-estimator-2.5.0 tensorflow-gpu-2.5.0 termcolor-1.1.0\n"
     ]
    }
   ],
   "source": [
    " pip install --user --upgrade tensorflow-gpu"
   ]
  },
  {
   "cell_type": "code",
   "execution_count": 5,
   "metadata": {},
   "outputs": [
    {
     "name": "stdout",
     "output_type": "stream",
     "text": [
      "Collecting keras==2.3.1\n",
      "  Downloading Keras-2.3.1-py2.py3-none-any.whl (377 kB)\n",
      "Requirement already satisfied: six>=1.9.0 in c:\\programdata\\anaconda3\\lib\\site-packages (from keras==2.3.1) (1.15.0)\n",
      "Requirement already satisfied: h5py in c:\\users\\pruthvi\\appdata\\roaming\\python\\python38\\site-packages (from keras==2.3.1) (3.1.0)\n",
      "Requirement already satisfied: keras-preprocessing>=1.0.5 in c:\\users\\pruthvi\\appdata\\roaming\\python\\python38\\site-packages (from keras==2.3.1) (1.1.2)\n",
      "Requirement already satisfied: scipy>=0.14 in c:\\programdata\\anaconda3\\lib\\site-packages (from keras==2.3.1) (1.6.2)\n",
      "Collecting keras-applications>=1.0.6\n",
      "  Downloading Keras_Applications-1.0.8-py3-none-any.whl (50 kB)\n",
      "Requirement already satisfied: numpy>=1.9.1 in c:\\users\\pruthvi\\appdata\\roaming\\python\\python38\\site-packages (from keras==2.3.1) (1.19.5)\n",
      "Requirement already satisfied: pyyaml in c:\\programdata\\anaconda3\\lib\\site-packages (from keras==2.3.1) (5.4.1)\n",
      "Installing collected packages: keras-applications, keras\n",
      "  Attempting uninstall: keras\n",
      "    Found existing installation: Keras 2.4.3\n",
      "    Uninstalling Keras-2.4.3:\n",
      "      Successfully uninstalled Keras-2.4.3\n",
      "Successfully installed keras-2.3.1 keras-applications-1.0.8\n",
      "Note: you may need to restart the kernel to use updated packages.\n"
     ]
    }
   ],
   "source": [
    "pip install keras==2.3.1"
   ]
  },
  {
   "cell_type": "code",
   "execution_count": 6,
   "metadata": {},
   "outputs": [
    {
     "name": "stdout",
     "output_type": "stream",
     "text": [
      "Note: you may need to restart the kernel to use updated packages.\n"
     ]
    },
    {
     "name": "stderr",
     "output_type": "stream",
     "text": [
      "ERROR: Could not find a version that satisfies the requirement tensorflow-gpu==1.14.0\n",
      "ERROR: No matching distribution found for tensorflow-gpu==1.14.0\n"
     ]
    }
   ],
   "source": [
    "pip install --user --upgrade tensorflow-gpu==1.14.0"
   ]
  },
  {
   "cell_type": "markdown",
   "metadata": {
    "id": "68EmOAz_g69o"
   },
   "source": [
    "#### <Font Color='Red'> Importing Libraries"
   ]
  },
  {
   "cell_type": "code",
   "execution_count": 3,
   "metadata": {
    "colab": {
     "base_uri": "https://localhost:8080/",
     "height": 1000
    },
    "id": "AAkrop2sb46M",
    "outputId": "3e1e64c7-bb2a-4438-c682-114f24ac9621"
   },
   "outputs": [
    {
     "data": {
      "text/html": [
       "        <script type=\"text/javascript\">\n",
       "        window.PlotlyConfig = {MathJaxConfig: 'local'};\n",
       "        if (window.MathJax) {MathJax.Hub.Config({SVG: {font: \"STIX-Web\"}});}\n",
       "        if (typeof require !== 'undefined') {\n",
       "        require.undef(\"plotly\");\n",
       "        requirejs.config({\n",
       "            paths: {\n",
       "                'plotly': ['https://cdn.plot.ly/plotly-2.2.0.min']\n",
       "            }\n",
       "        });\n",
       "        require(['plotly'], function(Plotly) {\n",
       "            window._Plotly = Plotly;\n",
       "        });\n",
       "        }\n",
       "        </script>\n",
       "        "
      ]
     },
     "metadata": {},
     "output_type": "display_data"
    },
    {
     "ename": "ImportError",
     "evalue": "Keras requires TensorFlow 2.2 or higher. Install TensorFlow via `pip install tensorflow`",
     "output_type": "error",
     "traceback": [
      "\u001b[1;31m---------------------------------------------------------------------------\u001b[0m",
      "\u001b[1;31mModuleNotFoundError\u001b[0m                       Traceback (most recent call last)",
      "\u001b[1;32mC:\\ProgramData\\Anaconda3\\lib\\site-packages\\keras\\__init__.py\u001b[0m in \u001b[0;36m<module>\u001b[1;34m\u001b[0m\n\u001b[0;32m      2\u001b[0m \u001b[1;32mtry\u001b[0m\u001b[1;33m:\u001b[0m\u001b[1;33m\u001b[0m\u001b[1;33m\u001b[0m\u001b[0m\n\u001b[1;32m----> 3\u001b[1;33m     \u001b[1;32mfrom\u001b[0m \u001b[0mtensorflow\u001b[0m\u001b[1;33m.\u001b[0m\u001b[0mkeras\u001b[0m\u001b[1;33m.\u001b[0m\u001b[0mlayers\u001b[0m\u001b[1;33m.\u001b[0m\u001b[0mexperimental\u001b[0m\u001b[1;33m.\u001b[0m\u001b[0mpreprocessing\u001b[0m \u001b[1;32mimport\u001b[0m \u001b[0mRandomRotation\u001b[0m\u001b[1;33m\u001b[0m\u001b[1;33m\u001b[0m\u001b[0m\n\u001b[0m\u001b[0;32m      4\u001b[0m \u001b[1;32mexcept\u001b[0m \u001b[0mImportError\u001b[0m\u001b[1;33m:\u001b[0m\u001b[1;33m\u001b[0m\u001b[1;33m\u001b[0m\u001b[0m\n",
      "\u001b[1;31mModuleNotFoundError\u001b[0m: No module named 'tensorflow'",
      "\nDuring handling of the above exception, another exception occurred:\n",
      "\u001b[1;31mImportError\u001b[0m                               Traceback (most recent call last)",
      "\u001b[1;32m<ipython-input-3-1905987d5fbd>\u001b[0m in \u001b[0;36m<module>\u001b[1;34m\u001b[0m\n\u001b[0;32m     16\u001b[0m \u001b[1;33m\u001b[0m\u001b[0m\n\u001b[0;32m     17\u001b[0m \u001b[1;33m\u001b[0m\u001b[0m\n\u001b[1;32m---> 18\u001b[1;33m \u001b[1;32mimport\u001b[0m \u001b[0mkeras\u001b[0m\u001b[1;33m\u001b[0m\u001b[1;33m\u001b[0m\u001b[0m\n\u001b[0m\u001b[0;32m     19\u001b[0m \u001b[1;32mfrom\u001b[0m \u001b[0mkeras\u001b[0m\u001b[1;33m.\u001b[0m\u001b[0mpreprocessing\u001b[0m \u001b[1;32mimport\u001b[0m \u001b[0msequence\u001b[0m\u001b[1;33m\u001b[0m\u001b[1;33m\u001b[0m\u001b[0m\n\u001b[0;32m     20\u001b[0m \u001b[1;32mfrom\u001b[0m \u001b[0mkeras\u001b[0m\u001b[1;33m.\u001b[0m\u001b[0mmodels\u001b[0m \u001b[1;32mimport\u001b[0m \u001b[0mSequential\u001b[0m\u001b[1;33m\u001b[0m\u001b[1;33m\u001b[0m\u001b[0m\n",
      "\u001b[1;32mC:\\ProgramData\\Anaconda3\\lib\\site-packages\\keras\\__init__.py\u001b[0m in \u001b[0;36m<module>\u001b[1;34m\u001b[0m\n\u001b[0;32m      3\u001b[0m     \u001b[1;32mfrom\u001b[0m \u001b[0mtensorflow\u001b[0m\u001b[1;33m.\u001b[0m\u001b[0mkeras\u001b[0m\u001b[1;33m.\u001b[0m\u001b[0mlayers\u001b[0m\u001b[1;33m.\u001b[0m\u001b[0mexperimental\u001b[0m\u001b[1;33m.\u001b[0m\u001b[0mpreprocessing\u001b[0m \u001b[1;32mimport\u001b[0m \u001b[0mRandomRotation\u001b[0m\u001b[1;33m\u001b[0m\u001b[1;33m\u001b[0m\u001b[0m\n\u001b[0;32m      4\u001b[0m \u001b[1;32mexcept\u001b[0m \u001b[0mImportError\u001b[0m\u001b[1;33m:\u001b[0m\u001b[1;33m\u001b[0m\u001b[1;33m\u001b[0m\u001b[0m\n\u001b[1;32m----> 5\u001b[1;33m     raise ImportError(\n\u001b[0m\u001b[0;32m      6\u001b[0m         \u001b[1;34m'Keras requires TensorFlow 2.2 or higher. '\u001b[0m\u001b[1;33m\u001b[0m\u001b[1;33m\u001b[0m\u001b[0m\n\u001b[0;32m      7\u001b[0m         'Install TensorFlow via `pip install tensorflow`')\n",
      "\u001b[1;31mImportError\u001b[0m: Keras requires TensorFlow 2.2 or higher. Install TensorFlow via `pip install tensorflow`"
     ]
    }
   ],
   "source": [
    "import numpy as np\n",
    "import pandas as pd\n",
    "import matplotlib.pyplot as plt\n",
    "from datetime import datetime\n",
    "import seaborn as sns\n",
    "from collections import Counter\n",
    "from tqdm import tqdm_notebook as tqdm\n",
    "color = sns.color_palette()\n",
    "import plotly.offline as py\n",
    "py.init_notebook_mode(connected=True)\n",
    "import plotly.graph_objs as go\n",
    "import plotly.tools as tls\n",
    "import plotly.express as px\n",
    "import warnings\n",
    "warnings.filterwarnings(\"ignore\")\n",
    "\n",
    "\n",
    "import keras\n",
    "from keras.preprocessing import sequence\n",
    "from keras.models import Sequential\n",
    "from keras import layers\n",
    "from keras.optimizers import Adam\n",
    "from sklearn.utils import shuffle\n",
    "from sklearn.model_selection import train_test_split\n",
    "from    keras.callbacks   import ModelCheckpoint \n",
    "\n",
    "pd.options.mode.chained_assignment = None  # default='warn'\n",
    "\n",
    "%matplotlib inline\n"
   ]
  },
  {
   "cell_type": "code",
   "execution_count": null,
   "metadata": {},
   "outputs": [],
   "source": []
  },
  {
   "cell_type": "markdown",
   "metadata": {
    "id": "6D_1mf58hD_L"
   },
   "source": [
    "#### <Font Color='Red'> Importing Dataset and displaying first five rows\n"
   ]
  },
  {
   "cell_type": "code",
   "execution_count": null,
   "metadata": {
    "colab": {
     "base_uri": "https://localhost:8080/",
     "height": 455
    },
    "id": "an5fZT48caAX",
    "outputId": "9a0ec13c-3982-4abd-96d3-c27eb5127026"
   },
   "outputs": [],
   "source": [
    "ar = pd.read_csv('Reviews.csv')\n",
    "ar.head()"
   ]
  },
  {
   "cell_type": "code",
   "execution_count": null,
   "metadata": {
    "colab": {
     "base_uri": "https://localhost:8080/"
    },
    "id": "kPmlzWqicoYe",
    "outputId": "bdffd08c-3874-4954-f8f1-ddaf0e67fa39"
   },
   "outputs": [],
   "source": [
    "ar.shape"
   ]
  },
  {
   "cell_type": "code",
   "execution_count": null,
   "metadata": {
    "colab": {
     "base_uri": "https://localhost:8080/"
    },
    "id": "8K0yvcgMgiFy",
    "outputId": "13521e64-56a7-4826-cc82-4141002afa68"
   },
   "outputs": [],
   "source": [
    "ar.columns"
   ]
  },
  {
   "cell_type": "code",
   "execution_count": null,
   "metadata": {
    "colab": {
     "base_uri": "https://localhost:8080/"
    },
    "id": "uaLm2v3Xcq4b",
    "outputId": "a62bbcbb-6af2-41ed-bcf7-799f285b3941"
   },
   "outputs": [],
   "source": [
    "ar.info()"
   ]
  },
  {
   "cell_type": "markdown",
   "metadata": {
    "id": "PJUfhuCLhPk4"
   },
   "source": [
    "#### <Font Color='Red'> Statistical insights of dataset"
   ]
  },
  {
   "cell_type": "code",
   "execution_count": null,
   "metadata": {
    "colab": {
     "base_uri": "https://localhost:8080/",
     "height": 295
    },
    "id": "uDHuhz2AcsVA",
    "outputId": "66259970-2ade-42b0-ee93-b23f339268ae"
   },
   "outputs": [],
   "source": [
    "ar.describe()"
   ]
  },
  {
   "cell_type": "markdown",
   "metadata": {
    "id": "Y_BY1SgYgrEZ"
   },
   "source": [
    "#### <Font Color='Red'> Sample Review from the dataset"
   ]
  },
  {
   "cell_type": "code",
   "execution_count": null,
   "metadata": {
    "colab": {
     "base_uri": "https://localhost:8080/"
    },
    "id": "2tM_nx2YgvJb",
    "outputId": "485fb953-75eb-4aea-86f4-5e483294e18d"
   },
   "outputs": [],
   "source": [
    "ar['Text'].head()"
   ]
  },
  {
   "cell_type": "code",
   "execution_count": null,
   "metadata": {
    "colab": {
     "base_uri": "https://localhost:8080/",
     "height": 52
    },
    "id": "l7Wx5JGlg0vl",
    "outputId": "5d6054fa-a68d-4071-cc6e-76bf21b96ba4"
   },
   "outputs": [],
   "source": [
    "ar['Text'][3]"
   ]
  },
  {
   "cell_type": "code",
   "execution_count": null,
   "metadata": {
    "colab": {
     "base_uri": "https://localhost:8080/"
    },
    "id": "9jCfHjbNihE5",
    "outputId": "dcfcb871-44dd-4488-c446-d031f447ae56"
   },
   "outputs": [],
   "source": [
    "print('Number of unique products:', len(ar['ProductId'].unique()))"
   ]
  },
  {
   "cell_type": "code",
   "execution_count": null,
   "metadata": {
    "colab": {
     "base_uri": "https://localhost:8080/"
    },
    "id": "lgn705szilSH",
    "outputId": "ff07b8c9-6ab3-4f77-e817-11bb48042169"
   },
   "outputs": [],
   "source": [
    "print('Number of unique users:', len(ar['UserId'].unique()))"
   ]
  },
  {
   "cell_type": "code",
   "execution_count": null,
   "metadata": {
    "colab": {
     "base_uri": "https://localhost:8080/"
    },
    "id": "y2enMuC-im9N",
    "outputId": "b8133225-8a67-4cd4-eec6-c1de97bba18a"
   },
   "outputs": [],
   "source": [
    "print('Estimate of number unique reviews:', len(ar['Text'].unique()))"
   ]
  },
  {
   "cell_type": "code",
   "execution_count": null,
   "metadata": {
    "colab": {
     "base_uri": "https://localhost:8080/"
    },
    "id": "zuKwl_YtinAp",
    "outputId": "7295f329-0bd5-4be7-f3a7-c15f0ccd5f99"
   },
   "outputs": [],
   "source": [
    "len(ar['Summary'].unique())"
   ]
  },
  {
   "cell_type": "markdown",
   "metadata": {
    "id": "DWJG3Apge1eM"
   },
   "source": [
    "#### <Font Color='Red'> Data Preprocessing"
   ]
  },
  {
   "cell_type": "code",
   "execution_count": null,
   "metadata": {
    "colab": {
     "base_uri": "https://localhost:8080/"
    },
    "id": "7PdtOmiucu8J",
    "outputId": "e26993a6-d467-4854-f928-e32dc2e0b0a1"
   },
   "outputs": [],
   "source": [
    "# Missing Values\n",
    "\n",
    "ar.isna().sum()"
   ]
  },
  {
   "cell_type": "code",
   "execution_count": null,
   "metadata": {
    "colab": {
     "base_uri": "https://localhost:8080/",
     "height": 234
    },
    "id": "fYXHYfwliyrz",
    "outputId": "0e0a5370-33ab-4ee0-b190-a235e950a896"
   },
   "outputs": [],
   "source": [
    "# grouping the data by user and product to check for repeatability\n",
    "ar.groupby(by=['UserId','ProductId']).count().sort_values(by=['Text'],ascending=False).head(5)"
   ]
  },
  {
   "cell_type": "code",
   "execution_count": null,
   "metadata": {
    "colab": {
     "base_uri": "https://localhost:8080/"
    },
    "id": "HnH1Z51Qi_mE",
    "outputId": "c3b66cb7-6d66-4de4-c836-7bc9d9e1a431"
   },
   "outputs": [],
   "source": [
    "# number of total repetition in data\n",
    "((ar.groupby(by=['UserId','ProductId']).count().sort_values(by=['Text'],ascending=False)>1)==True).sum()"
   ]
  },
  {
   "cell_type": "code",
   "execution_count": null,
   "metadata": {
    "colab": {
     "base_uri": "https://localhost:8080/"
    },
    "id": "xdO1uSovjECU",
    "outputId": "6a109003-6668-4dc6-b014-88b5cd1f5ae2"
   },
   "outputs": [],
   "source": [
    "# droppping duplicate only keeping one per case\n",
    "amz_review_sorted_drop_duplicated=ar.drop_duplicates(subset=['UserId','ProductId'], keep='first', inplace=False)\n",
    "\n",
    "# repeated offenders removed\n",
    "((amz_review_sorted_drop_duplicated.groupby(by=['UserId','ProductId']).count().sort_values(by=['Text'],ascending=False)>1)==True).sum()"
   ]
  },
  {
   "cell_type": "code",
   "execution_count": null,
   "metadata": {
    "colab": {
     "base_uri": "https://localhost:8080/",
     "height": 254
    },
    "id": "TZJ0P3xHjL0Z",
    "outputId": "ffbe21db-b2de-432e-afe7-8a9ac33d6bd0"
   },
   "outputs": [],
   "source": [
    "from datetime import datetime\n",
    "\n",
    "# converting unix time to year/month/day format, hour/min/sec is not available\n",
    "amz_review_sorted_drop_duplicated['Time_converted']=amz_review_sorted_drop_duplicated['Time'].apply(lambda col: datetime.utcfromtimestamp(int(col)).strftime('%Y-%m-%d'))\n",
    "\n",
    "#strftime('%Y-%m-%d %H:%M:%S'))\n",
    "amz_review_sorted_drop_duplicated['Time_converted_ym']=amz_review_sorted_drop_duplicated['Time'].apply(lambda col: datetime.utcfromtimestamp(int(col)).strftime('%Y-%m'))\n",
    "\n",
    "print('Earliest review')\n",
    "amz_review_sorted_drop_duplicated['Time_converted'].min()"
   ]
  },
  {
   "cell_type": "code",
   "execution_count": null,
   "metadata": {
    "colab": {
     "base_uri": "https://localhost:8080/",
     "height": 52
    },
    "id": "0sdCYx76j5XX",
    "outputId": "8331ae52-5643-44a1-8c50-31cdea9bc3ef"
   },
   "outputs": [],
   "source": [
    "print('latest review')\n",
    "amz_review_sorted_drop_duplicated['Time_converted'].max()"
   ]
  },
  {
   "cell_type": "markdown",
   "metadata": {
    "id": "d-1jB4zFkBmU"
   },
   "source": [
    "#### Cleaning the text of reviews:\n",
    "* Removing partially scraped containing html headers, and lower case the text\n",
    "* Remove special characters (e.g. \"{$1?&\") from the text\n",
    "* Removing extra space, parsing the data\n",
    "* Removing stopwords (e.g. \" he, she, is, the,...\"), keep reviews with at least 3 word\n",
    "* Removing NaN (very few)"
   ]
  },
  {
   "cell_type": "code",
   "execution_count": null,
   "metadata": {
    "colab": {
     "base_uri": "https://localhost:8080/"
    },
    "id": "HyDXkBWAjL29",
    "outputId": "2179700f-f77b-44c9-a45f-016813dda489"
   },
   "outputs": [],
   "source": [
    "#Removing partially scraped html from data\n",
    "def clean_span(col):  \n",
    "    if('<span' not in col.lower()):\n",
    "\n",
    "        return col.lower()\n",
    "\n",
    "amz_review_sorted_drop_duplicated['Text_new']=amz_review_sorted_drop_duplicated['Text'].apply(clean_span)\n",
    "\n",
    "amz_review_sorted_drop_duplicated.isnull().sum()"
   ]
  },
  {
   "cell_type": "code",
   "execution_count": null,
   "metadata": {
    "colab": {
     "base_uri": "https://localhost:8080/"
    },
    "id": "T6i8SWHIjL6k",
    "outputId": "8d409332-b8d3-4605-8aab-a5d015929459"
   },
   "outputs": [],
   "source": [
    "# data is removed from very few NaNs\n",
    "amz_review_sorted_drop_duplicated.dropna(inplace=True)"
   ]
  },
  {
   "cell_type": "code",
   "execution_count": null,
   "metadata": {
    "colab": {
     "base_uri": "https://localhost:8080/"
    },
    "id": "NeEOQoPhksve",
    "outputId": "aaccd42b-a7ed-4afa-dd83-cf32db649ad5"
   },
   "outputs": [],
   "source": [
    "\n",
    "stop_word_list =[]\n",
    "for word in open('/content/drive/MyDrive/stopword_short_long_mod.txt'):\n",
    "\n",
    "    stop_word_list.append(word.replace('\\n',''))\n",
    "    \n",
    "stop_word_list=list(set(stop_word_list))   \n",
    "print('stop word length', len(stop_word_list))\n",
    "\n",
    "special_char_list=['\\\\','`','\\\"',\"'\",'*','_','{','}','[',']','(',')',';','@','^','&','>','#','+',':','-','_','=','|','>','<','~','.','!','$','/',',','?','%','0','1','2','3','4','5','6','7','8','9']\n",
    "\n",
    "                \n",
    "def remove_specialchar(col):       \n",
    "        for word in special_char_list:\n",
    "            \n",
    "            if word in col: \n",
    "                col=col.replace(word,\"\").replace(\"  \",\" \")\n",
    "                \n",
    "\n",
    "        return col                  \n",
    "    \n",
    "def remove_stopword(col):\n",
    "        col_list=[]\n",
    "        txt_col_split=col.lower().replace('\\n',\" \").strip().split(\" \")\n",
    "        \n",
    "        for word_ in txt_col_split:\n",
    "              \n",
    "            if ((word_ not in stop_word_list) and len(word)>3):\n",
    "                \n",
    "                col_list.append(word_)\n",
    "\n",
    "        return (col_list)\n"
   ]
  },
  {
   "cell_type": "code",
   "execution_count": null,
   "metadata": {
    "colab": {
     "base_uri": "https://localhost:8080/"
    },
    "id": "LdeJZVmglB4q",
    "outputId": "d7aa49bb-86c8-4257-b654-472a19afca9d"
   },
   "outputs": [],
   "source": [
    "# applying special character removal to dataframe\n",
    "amz_review_sorted_drop_duplicated['Text_new2']=amz_review_sorted_drop_duplicated['Text_new'].apply(remove_specialchar)\n",
    "\n",
    "# applying stop words removal to dataframe\n",
    "amz_review_sorted_drop_duplicated['Text_new2']=amz_review_sorted_drop_duplicated['Text_new2'].apply(remove_stopword)"
   ]
  },
  {
   "cell_type": "code",
   "execution_count": null,
   "metadata": {
    "colab": {
     "base_uri": "https://localhost:8080/"
    },
    "id": "9hmkybXZlWQq",
    "outputId": "8f8ab74b-0bf7-4350-b232-badc3089f164"
   },
   "outputs": [],
   "source": [
    "#  A list of cleans words is the output\n",
    "print(amz_review_sorted_drop_duplicated['Text_new2'][0])"
   ]
  },
  {
   "cell_type": "markdown",
   "metadata": {
    "id": "uXviyqadmbQK"
   },
   "source": [
    "\n",
    "#### Calculating review lengths\n",
    "* Length of review is calculated (after cleaning) to understand impact of more in depth content on its helpfulness\n",
    "*Reviews on average have about 80 words, very small less than 1% go beyond 400 words"
   ]
  },
  {
   "cell_type": "code",
   "execution_count": null,
   "metadata": {
    "colab": {
     "base_uri": "https://localhost:8080/",
     "height": 282
    },
    "id": "9DTZqcyEmY41",
    "outputId": "2db800fb-26e8-4568-bbf6-2b6dc3293a47"
   },
   "outputs": [],
   "source": [
    "# length of review calculated stored in new column\n",
    "amz_review_sorted_drop_duplicated['Text_lenght']=amz_review_sorted_drop_duplicated['Text'].apply(lambda col: len(col.split(' ')))\n",
    "\n",
    "amz_review_sorted_drop_duplicated['Text_lenght'].hist(bins=1000)\n",
    "plt.xlim(0,400)\n",
    "plt.title('Review length distribution',fontsize=14)"
   ]
  },
  {
   "cell_type": "code",
   "execution_count": null,
   "metadata": {
    "colab": {
     "base_uri": "https://localhost:8080/"
    },
    "id": "Qcyx1uiEmsLg",
    "outputId": "daabce05-0091-41e8-e079-e1a0424fe359"
   },
   "outputs": [],
   "source": [
    "amz_review_sorted_drop_duplicated['Text_lenght'].describe()"
   ]
  },
  {
   "cell_type": "code",
   "execution_count": null,
   "metadata": {
    "colab": {
     "base_uri": "https://localhost:8080/"
    },
    "id": "iDM-iBE4msPL",
    "outputId": "05d85a43-38b0-40ee-c39a-a1b43d9ab5e4"
   },
   "outputs": [],
   "source": [
    "# data checked again, no Nan observed\n",
    "amz_review_sorted_drop_duplicated.isnull().sum()"
   ]
  },
  {
   "cell_type": "code",
   "execution_count": null,
   "metadata": {
    "colab": {
     "base_uri": "https://localhost:8080/",
     "height": 300
    },
    "id": "AolafbUHmy5b",
    "outputId": "84877323-e478-4bba-be1a-2c9b6a491e14"
   },
   "outputs": [],
   "source": [
    "# plotting count of each review star\n",
    "sns.countplot(x='Score', data=amz_review_sorted_drop_duplicated);\n",
    "plt.xlabel('Score',fontsize=14);\n",
    "plt.ylabel('Count',fontsize=14);\n",
    "plt.title('Review Score count 1999-2012',fontsize=14);\n",
    "plt.savefig('review_score_count_1999_2012.png')"
   ]
  },
  {
   "cell_type": "code",
   "execution_count": null,
   "metadata": {
    "colab": {
     "base_uri": "https://localhost:8080/",
     "height": 254
    },
    "id": "fK_illw0m4tb",
    "outputId": "7510c861-c693-4aec-b28e-cd363343d0f4"
   },
   "outputs": [],
   "source": [
    "# total review per user is grouped\n",
    "user_number_review=amz_review_sorted_drop_duplicated.groupby(by=['UserId']).count().sort_values(by=['Text'],ascending=False)\n",
    "\n",
    "user_number_review.head()"
   ]
  },
  {
   "cell_type": "code",
   "execution_count": null,
   "metadata": {
    "colab": {
     "base_uri": "https://localhost:8080/",
     "height": 388
    },
    "id": "LrRYSz8Km4wj",
    "outputId": "e79c2840-9092-40c0-d103-b9678dd2a920"
   },
   "outputs": [],
   "source": [
    "# only individual with more than 10 review incuded in top group\n",
    "user_top_reviewer=user_number_review[user_number_review['Id']>10][['Id']]\n",
    "user_top_reviewer.head(10)   #11 to 419"
   ]
  },
  {
   "cell_type": "code",
   "execution_count": null,
   "metadata": {
    "colab": {
     "base_uri": "https://localhost:8080/",
     "height": 300
    },
    "id": "hweO3KBLm4zg",
    "outputId": "e6bc726c-e31e-4b63-c2e6-83ac8283e386"
   },
   "outputs": [],
   "source": [
    "# distribution of review count per user\n",
    "\n",
    "user_top_reviewer['Id'].hist(bins=400,label='Number of reviews for Top (>10) reviewer',alpha=0.7);\n",
    "plt.xlabel('Review count of top reviewers',fontsize=14);\n",
    "plt.ylabel('count',fontsize=14);\n",
    "\n",
    "plt.grid(linewidth=0.5,alpha=0.75)\n",
    "\n",
    "plt.xlim(10,100)\n",
    "plt.title('Review count for top reviewers',fontsize=14);\n",
    "plt.savefig('review_count__top_reviewer_dist.png')"
   ]
  },
  {
   "cell_type": "code",
   "execution_count": null,
   "metadata": {
    "colab": {
     "base_uri": "https://localhost:8080/"
    },
    "id": "YGj8xcwwnIov",
    "outputId": "7a3dcf9f-65f3-4da0-ac00-ed06a2d2d943"
   },
   "outputs": [],
   "source": [
    "user_top_reviewer['Id'].describe()"
   ]
  },
  {
   "cell_type": "code",
   "execution_count": null,
   "metadata": {
    "id": "aBttYHQFm43T"
   },
   "outputs": [],
   "source": [
    "user_top_reviewer.to_csv('amazon_top_reviewer_list.csv')\n",
    "\n",
    "# getting average data per user\n",
    "user_average_info=amz_review_sorted_drop_duplicated.groupby(by=['UserId']).mean()\n",
    "\n",
    "user_average_info.to_csv('amazon_reviewer_avg_info.csv')"
   ]
  },
  {
   "cell_type": "code",
   "execution_count": null,
   "metadata": {
    "colab": {
     "base_uri": "https://localhost:8080/",
     "height": 234
    },
    "id": "7qoAfyH8m45k",
    "outputId": "57a3d3d0-7d10-4c81-9214-023248589dd0"
   },
   "outputs": [],
   "source": [
    "# merging total review count and avg data per user\n",
    "top_reviewer_avg_data=pd.merge(user_average_info,user_top_reviewer,how='inner',on='UserId')\n",
    "\n",
    "user_top_reviewer.head()"
   ]
  },
  {
   "cell_type": "code",
   "execution_count": null,
   "metadata": {
    "colab": {
     "base_uri": "https://localhost:8080/",
     "height": 254
    },
    "id": "eoIfxmLpm48k",
    "outputId": "be414d70-db2d-4c48-b0c9-006f643b08c5"
   },
   "outputs": [],
   "source": [
    "# calculate rtio of helpfulness, average number of people finding review helpful over total count commented on review\n",
    "top_reviewer_avg_data['ratio_helpful']=top_reviewer_avg_data['HelpfulnessNumerator']/top_reviewer_avg_data['HelpfulnessDenominator']\n",
    "\n",
    "top_reviewer_avg_data['Time_converted']=top_reviewer_avg_data['Time'].apply(lambda col: datetime.utcfromtimestamp(int(col)).strftime('%Y-%m'))\n",
    "\n",
    "#making sure ratio of helpfulness between 0-1\n",
    "\n",
    "top_reviewer_avg_data=top_reviewer_avg_data[(top_reviewer_avg_data['ratio_helpful']>0.0) & (top_reviewer_avg_data['ratio_helpful']<1.0)]\n",
    "\n",
    "colors = np.random.rand(top_reviewer_avg_data.shape[0])\n",
    "\n",
    "top_reviewer_avg_data.head()"
   ]
  },
  {
   "cell_type": "code",
   "execution_count": null,
   "metadata": {
    "colab": {
     "base_uri": "https://localhost:8080/",
     "height": 300
    },
    "id": "TIV4YGlem4_8",
    "outputId": "47af1e54-4239-4618-b4ac-8d8d8ef03c99"
   },
   "outputs": [],
   "source": [
    "# review helpfulness distribution\n",
    "top_reviewer_avg_data['ratio_helpful'].hist(bins=100,label='review helpfullness top reviewers',alpha=0.7);\n",
    "\n",
    "plt.xlabel('Review Helpfullness ratio',fontsize=14);\n",
    "plt.ylabel('count',fontsize=14);\n",
    "\n",
    "#plt.legend()\n",
    "plt.grid(linewidth=0.5,alpha=0.75)\n",
    "\n",
    "\n",
    "plt.title('Review helpfullness for top reviewers',fontsize=14);\n",
    "plt.savefig('helpfullness_top_reviewer_dist.png')"
   ]
  },
  {
   "cell_type": "code",
   "execution_count": null,
   "metadata": {
    "colab": {
     "base_uri": "https://localhost:8080/",
     "height": 300
    },
    "id": "DHOStCllnZKJ",
    "outputId": "f419d4f0-b551-45d0-b697-4ddc65fda2cc"
   },
   "outputs": [],
   "source": [
    "# review length vs helpfulness\n",
    "plt.scatter(top_reviewer_avg_data['Text_lenght'],top_reviewer_avg_data['ratio_helpful'],alpha=0.7);\n",
    "plt.xlim(0,600);\n",
    "plt.xlabel('Review Length',fontsize=14);\n",
    "plt.ylabel('Review Helpfullness ratio',fontsize=14);\n",
    "#plt.legend()\n",
    "plt.grid(linewidth=0.5,alpha=0.75)\n",
    "\n",
    "\n",
    "plt.title('Review length for top reviewers',fontsize=14);\n",
    "plt.savefig('helpfullness_top_reviewer_length.png')"
   ]
  },
  {
   "cell_type": "code",
   "execution_count": null,
   "metadata": {
    "colab": {
     "base_uri": "https://localhost:8080/",
     "height": 300
    },
    "id": "wWzzzE-YnZM6",
    "outputId": "12beefdd-8ca7-4b59-becb-841a65eaeb15"
   },
   "outputs": [],
   "source": [
    "#review helpfulness vs. review count\n",
    "plt.scatter(top_reviewer_avg_data['Id_y'],top_reviewer_avg_data['ratio_helpful'],alpha=0.7);\n",
    "plt.xlim(0,175);\n",
    "plt.xlabel('Top reviewer review count',fontsize=14);\n",
    "plt.ylabel('Review Helpfullness ratio',fontsize=14);\n",
    "\n",
    "#plt.legend()\n",
    "plt.grid(linewidth=0.5,alpha=0.75)\n",
    "\n",
    "\n",
    "plt.title('Review count for top reviewers',fontsize=14);\n",
    "plt.savefig('helpfullness_top_reviewer_count.png')"
   ]
  },
  {
   "cell_type": "code",
   "execution_count": null,
   "metadata": {
    "colab": {
     "base_uri": "https://localhost:8080/",
     "height": 300
    },
    "id": "xMqTEZT3nZPl",
    "outputId": "83c106d6-fbbb-4648-93c0-17b5fdb5c638"
   },
   "outputs": [],
   "source": [
    "\n",
    "#revire count of top reviewers vs. review length\n",
    "plt.scatter(top_reviewer_avg_data['Id_y'],top_reviewer_avg_data['Text_lenght'],alpha=0.7); #,c=top_reviewer_avg_data['ratio_helpful'])\n",
    "plt.xlim(0,175);\n",
    "\n",
    "plt.xlabel('Top reviewer review count',fontsize=14);\n",
    "plt.ylabel('Review length for top reviewers',fontsize=14);\n",
    "\n",
    "#plt.legend()\n",
    "plt.grid(linewidth=0.5,alpha=0.75)\n",
    "\n",
    "\n",
    "plt.title('Review count vs. length top reviewers',fontsize=14);\n",
    "plt.savefig('helpfullness_top_reviewer_length_count.png')"
   ]
  },
  {
   "cell_type": "code",
   "execution_count": null,
   "metadata": {
    "colab": {
     "base_uri": "https://localhost:8080/",
     "height": 446
    },
    "id": "Cw4LV23VnZTR",
    "outputId": "2017ba79-8fd0-40ce-f2db-a2f39bfbc26d"
   },
   "outputs": [],
   "source": [
    "\n",
    "# Divide the data by score and group for each month\n",
    "grp_s1=amz_review_sorted_drop_duplicated[amz_review_sorted_drop_duplicated['Score']==1]\n",
    "grp_s2=amz_review_sorted_drop_duplicated[amz_review_sorted_drop_duplicated['Score']==2]\n",
    "grp_s3=amz_review_sorted_drop_duplicated[amz_review_sorted_drop_duplicated['Score']==3]\n",
    "grp_s4=amz_review_sorted_drop_duplicated[amz_review_sorted_drop_duplicated['Score']==4]\n",
    "grp_s5=amz_review_sorted_drop_duplicated[amz_review_sorted_drop_duplicated['Score']==5]\n",
    "\n",
    "grp_date_1=grp_s1.groupby(by=['Time_converted_ym']).count();\n",
    "grp_date_2=grp_s2.groupby(by=['Time_converted_ym']).count();\n",
    "grp_date_3=grp_s3.groupby(by=['Time_converted_ym']).count();\n",
    "grp_date_4=grp_s4.groupby(by=['Time_converted_ym']).count();\n",
    "grp_date_5=grp_s5.groupby(by=['Time_converted_ym']).count();\n",
    "\n",
    "grp_date_1.reset_index(inplace=True); #to make it to column\n",
    "grp_date_2.reset_index(inplace=True);\n",
    "grp_date_3.reset_index(inplace=True);\n",
    "grp_date_4.reset_index(inplace=True);\n",
    "grp_date_5.reset_index(inplace=True);\n",
    "\n",
    "# review count by score for each month from 2000 to 2012\n",
    "plt.figure(figsize=(24,8))\n",
    "\n",
    "plt.plot_date(x=grp_date_1['Time_converted_ym'],y=grp_date_1['Score'],label='Score=1');\n",
    "plt.plot_date(x=grp_date_2['Time_converted_ym'],y=grp_date_2['Score'],label='Score=2');\n",
    "plt.plot_date(x=grp_date_3['Time_converted_ym'],y=grp_date_3['Score'],label='Score=3');\n",
    "plt.plot_date(x=grp_date_4['Time_converted_ym'],y=grp_date_4['Score'],label='Score=4');\n",
    "plt.plot_date(x=grp_date_5['Time_converted_ym'],y=grp_date_5['Score'],label='Score=5');\n",
    "plt.xticks(rotation=90);\n",
    "plt.legend()\n",
    "plt.grid(linewidth=0.5,alpha=0.75)\n",
    "plt.xlim('2000-01','2012-10');\n",
    "plt.xlabel('Date',fontsize=22)\n",
    "plt.ylabel('Number of review',fontsize=22)\n",
    "plt.title('Number of review trend from 2000 to 2012',fontsize=24);\n",
    "plt.savefig('data_review_trend.png')\n",
    "#grp_date"
   ]
  },
  {
   "cell_type": "code",
   "execution_count": null,
   "metadata": {
    "id": "9_49gmIioL3V"
   },
   "outputs": [],
   "source": [
    "# average of helpfulness per month is calculated\n",
    "grp_avg_date=amz_review_sorted_drop_duplicated.groupby(by=['Time_converted_ym']).mean()\n",
    "grp_avg_date.reset_index(inplace=True);\n",
    "grp_avg_date['Helpfulness_ratio']=grp_avg_date['HelpfulnessNumerator']/grp_avg_date['HelpfulnessDenominator']"
   ]
  },
  {
   "cell_type": "code",
   "execution_count": null,
   "metadata": {
    "colab": {
     "base_uri": "https://localhost:8080/",
     "height": 450
    },
    "id": "MUPtCd7doL6X",
    "outputId": "5f5ea446-c971-47c8-ed26-ad21a36fc74c"
   },
   "outputs": [],
   "source": [
    "# average review length vs. time\n",
    "plt.figure(figsize=(24,8))\n",
    "plt.plot_date(x=grp_avg_date['Time_converted_ym'],y=grp_avg_date['Text_lenght'],label='Review length');\n",
    "plt.xticks(rotation=90);\n",
    "plt.legend()\n",
    "plt.grid(linewidth=0.5,alpha=0.75)\n",
    "plt.xlim('2000-01','2012-10');\n",
    "plt.xlabel('Date',fontsize=22)\n",
    "plt.ylabel('Average review length',fontsize=22)\n",
    "plt.title('Length of review trend from 2000 to 2012',fontsize=24);\n",
    "plt.savefig('data_review_length_trend.png')\n",
    "#stable review length"
   ]
  },
  {
   "cell_type": "markdown",
   "metadata": {
    "id": "cV7rCmLZoUEl"
   },
   "source": [
    "No special trend is observed, only seems that from 2000 to 2006 due to limited review available there is more standard deviation in the review length statistics\n"
   ]
  },
  {
   "cell_type": "markdown",
   "metadata": {
    "id": "q1lzCgdXhpI1"
   },
   "source": [
    "#### <Font Color='Red'> Generating word cloud"
   ]
  },
  {
   "cell_type": "code",
   "execution_count": null,
   "metadata": {
    "colab": {
     "base_uri": "https://localhost:8080/",
     "height": 449
    },
    "id": "B31IjdkbfHvR",
    "outputId": "02f0ccce-1253-469c-ac1e-524cbe4a7f21"
   },
   "outputs": [],
   "source": [
    "import nltk\n",
    "from nltk.corpus import stopwords\n",
    "from wordcloud import WordCloud,STOPWORDS\n",
    "stopwords = set(STOPWORDS)\n",
    "stopwords.update([\"br\", \"href\"])\n",
    "textt = \" \".join(review for review in ar.Text)\n",
    "wordcloud = WordCloud(stopwords=stopwords).generate(textt)\n",
    "plt.figure(figsize = (15,10))\n",
    "plt.imshow(wordcloud, interpolation='bilinear')\n",
    "plt.axis(\"off\")\n",
    "plt.savefig('wordcloud1.png')\n",
    "plt.show()"
   ]
  },
  {
   "cell_type": "markdown",
   "metadata": {
    "id": "JqBtwnxch3sW"
   },
   "source": [
    "#### <Font Color='Red'> Dividing the reviews in positive and negative based on score"
   ]
  },
  {
   "cell_type": "code",
   "execution_count": null,
   "metadata": {
    "id": "-ZYEOVNF4h4z"
   },
   "outputs": [],
   "source": [
    "top_reviewer_avg_data.to_csv('top_reviewer_avg_data.csv',index=False)\n",
    "\n",
    "grp_avg_date.to_csv('grp_avg_date.csv',index=False)\n",
    "\n",
    "check_name=pd.read_csv('amazon_top_reviewer_list.csv')"
   ]
  },
  {
   "cell_type": "code",
   "execution_count": null,
   "metadata": {
    "id": "BsEhnIlG44t2"
   },
   "outputs": [],
   "source": [
    "\n",
    "def score_pos_neg(col):\n",
    "    \n",
    "    ''' This function get the score between 1 to five and return 1 for score>3 and return 0 for score<3,\n",
    "    as positive and negative respectively\n",
    "    \n",
    "    Input:\n",
    "    \n",
    "    col: number between 1 to 5 (review star)\n",
    "    \n",
    "    Return:\n",
    "    \n",
    "    return 1 or 0\n",
    "    '''\n",
    "    \n",
    "    if col>3:\n",
    "        return 1\n",
    "    else:\n",
    "        return 0\n",
    "\n",
    "amz_review_sorted_drop_duplicated['score_pos_neg']=amz_review_sorted_drop_duplicated['Score'].apply(score_pos_neg)"
   ]
  },
  {
   "cell_type": "code",
   "execution_count": null,
   "metadata": {
    "colab": {
     "base_uri": "https://localhost:8080/",
     "height": 300
    },
    "id": "xWFeCGDg44xH",
    "outputId": "5e5ff0f9-159f-4065-e28b-781ddf1d14ba"
   },
   "outputs": [],
   "source": [
    "#plotting count of positive \"1\" and negative \"0\" reviews\n",
    "sns.countplot(x='score_pos_neg', data=amz_review_sorted_drop_duplicated);\n",
    "plt.xlabel('Score 0/1',fontsize=14);\n",
    "plt.ylabel('Count',fontsize=14);\n",
    "plt.title('Review Score 0/1 count 1999-2012',fontsize=14);\n",
    "plt.savefig('review_score_01count_1999_2012.png')"
   ]
  },
  {
   "cell_type": "code",
   "execution_count": null,
   "metadata": {
    "id": "7R8tp4wL49p2"
   },
   "outputs": [],
   "source": [
    "\n",
    "# parsed and cleaned data is saved in csv file\n",
    "amz_review_sorted_drop_duplicated.to_csv('amazon_review_parsed.csv',index=False)"
   ]
  },
  {
   "cell_type": "code",
   "execution_count": null,
   "metadata": {
    "colab": {
     "base_uri": "https://localhost:8080/",
     "height": 203
    },
    "id": "TRi5EjQb4h71",
    "outputId": "674be85a-8f6c-482e-cf42-e8c071b8687f"
   },
   "outputs": [],
   "source": [
    "amz_review_less_col=amz_review_sorted_drop_duplicated[['Score','Time_converted_ym', 'Text_new2', 'score_pos_neg']]\n",
    "\n",
    "amz_review_less_col_rename=amz_review_less_col.rename(columns={'Text_new2':'Review_word_list'})\n",
    "\n",
    "amz_review_less_col_rename.head()"
   ]
  },
  {
   "cell_type": "code",
   "execution_count": null,
   "metadata": {
    "id": "fqpF9lWJ4iAG"
   },
   "outputs": [],
   "source": [
    "amz_review_less_col_rename.to_csv('amz_review_less_col_rename.csv',index=False)"
   ]
  },
  {
   "cell_type": "code",
   "execution_count": null,
   "metadata": {
    "colab": {
     "base_uri": "https://localhost:8080/",
     "height": 203
    },
    "id": "VdRrdJIs4iCc",
    "outputId": "456dac1d-47af-4813-e7ff-d5fdd9c82fc4"
   },
   "outputs": [],
   "source": [
    "amz_review_less_col_rename=pd.read_csv('amz_review_less_col_rename.csv')\n",
    "amz_review_less_col_rename['Review_word_list']=amz_review_less_col_rename['Review_word_list'].apply(lambda x: eval(x))\n",
    "\n",
    "amz_review_less_col_rename.head()"
   ]
  },
  {
   "cell_type": "code",
   "execution_count": null,
   "metadata": {
    "id": "miF_UbcO4iFQ"
   },
   "outputs": [],
   "source": [
    "# initialize counters for posiive, negative and all reviews\n",
    "counter_pos=Counter()\n",
    "counter_neg=Counter()\n",
    "counter_total=Counter()\n",
    "\n",
    "# get individual review, score (0/1) and actual score 1-5 from dataframe in the vector form\n",
    "review_vec=amz_review_less_col_rename['Review_word_list']\n",
    "score_vec=amz_review_less_col_rename['score_pos_neg']\n",
    "actual_score_vec=amz_review_less_col_rename['Score']"
   ]
  },
  {
   "cell_type": "code",
   "execution_count": null,
   "metadata": {
    "colab": {
     "base_uri": "https://localhost:8080/"
    },
    "id": "0z1SH7tC4iHX",
    "outputId": "0da573b8-2df1-4c06-fca3-b7eb0aa5d241"
   },
   "outputs": [],
   "source": [
    "\n",
    "# very Negative review\n",
    "\n",
    "for i,review in enumerate(review_vec):\n",
    "    \n",
    "    if(i>10 and i<16 and score_vec[i]==0 and actual_score_vec[i]!=3):\n",
    "        print('Negative',actual_score_vec[i],i,'\\n')\n",
    "        print(review)\n",
    "        print(' \\n')\n",
    "    \n",
    "    #print"
   ]
  },
  {
   "cell_type": "code",
   "execution_count": null,
   "metadata": {
    "colab": {
     "base_uri": "https://localhost:8080/"
    },
    "id": "i6awnh0z4iKJ",
    "outputId": "e9ad5ba8-0fc5-446d-fa26-4a3bb8d9d797"
   },
   "outputs": [],
   "source": [
    "for i,review in enumerate(review_vec):\n",
    "    \n",
    "    if(i>11 and i<15 and actual_score_vec[i]==5):\n",
    "        print('Positive',actual_score_vec[i],i,'\\n')\n",
    "        print(review)\n",
    "        print(' \\n')"
   ]
  },
  {
   "cell_type": "code",
   "execution_count": null,
   "metadata": {
    "colab": {
     "base_uri": "https://localhost:8080/",
     "height": 66,
     "referenced_widgets": [
      "bafdd750e39e4a0a98d62edad5af41dc",
      "33d1a0b7ae334091b2331be8fa905206",
      "ec797cf0426946c6b52f84cef601efab",
      "55a54d270cb24a2593f9f314fa4ce37e",
      "2b17f29772684d4fa269d6fe132056de",
      "b4148b41c45e48a9a7a98e1bd1416dbe",
      "032d5c49d225422fb2c4c990f03e55d2",
      "7f707287dfb34a888f83bd25a857601b"
     ]
    },
    "id": "jcQDpUz54iM9",
    "outputId": "1efc75d6-fcd4-40be-fd94-b818eb1f95a2"
   },
   "outputs": [],
   "source": [
    "#per postive/negative and total reviews per each review one by one\n",
    "\n",
    "for i in tqdm(range(len(review_vec))):\n",
    "    \n",
    "    try:\n",
    "        #print(review)\n",
    "    \n",
    "        for word in review_vec[i]:        \n",
    "            counter_total[word] += 1\n",
    "\n",
    "            if(score_vec[i]==1):\n",
    "                counter_pos[word] += 1\n",
    "\n",
    "            if(score_vec[i]==0):\n",
    "                counter_neg[word] += 1\n",
    "    except:   \n",
    "        continue"
   ]
  },
  {
   "cell_type": "code",
   "execution_count": null,
   "metadata": {
    "id": "glQyN9284iQB"
   },
   "outputs": [],
   "source": [
    "\n",
    "# top 20 most common words in negative reviews\n",
    "counter_neg.most_common()[0:20]"
   ]
  },
  {
   "cell_type": "code",
   "execution_count": null,
   "metadata": {
    "id": "AeEnAIEo4iSm"
   },
   "outputs": [],
   "source": [
    "# top 20 most common words in positive reviews\n",
    "counter_pos.most_common()[0:20]"
   ]
  },
  {
   "cell_type": "code",
   "execution_count": null,
   "metadata": {
    "id": "KhhQmI5q4iWR"
   },
   "outputs": [],
   "source": [
    "# This counter only consider words ratio in postive vs negative review,\n",
    "#if word not in negative collection a \"1\" is added to avoid NaN\n",
    "# to avoidvery big or small ratio, a log value is saved\n",
    "\n",
    "counter_pos_neg=Counter()\n",
    "\n",
    "#words called in for over 100 times in whole reviews\n",
    "\n",
    "for word,count in tqdm(counter_total.most_common()):\n",
    "    if(count>100):\n",
    "        try: \n",
    "            counter_pos_neg[word]=np.log(counter_pos[word]/float(counter_neg[word]+1))\n",
    "        except:\n",
    "            continue"
   ]
  },
  {
   "cell_type": "code",
   "execution_count": null,
   "metadata": {
    "id": "kZDwc0064iZs"
   },
   "outputs": [],
   "source": [
    "dict_top_pos=dict(counter_pos_neg.most_common(40))\n",
    "dict_top_neg=dict(counter_pos_neg.most_common()[:-40:-1])\n",
    "\n",
    "# Top 40 most positive polar\n",
    "\n",
    "\n",
    "# plt.autolayout : True\n",
    "# plt.tight_layout();\n",
    "plt.figure(figsize=(20,6))\n",
    "sns.barplot(list(dict_top_pos.keys()), list(dict_top_pos.values()), palette=\"Oranges_d\")\n",
    "plt.xticks(rotation=90,fontsize=14);\n",
    "plt.title('Top words in positive reviews',fontsize=20);\n",
    "plt.tight_layout();\n",
    "plt.savefig('word__freq_pos_rev.png')"
   ]
  },
  {
   "cell_type": "code",
   "execution_count": null,
   "metadata": {
    "id": "FSqDtl1r4icN"
   },
   "outputs": [],
   "source": [
    "# Top 40 most negative polar\n",
    "\n",
    "plt.figure(figsize=(20,6))\n",
    "sns.barplot(list(dict_top_neg.keys()), list(dict_top_neg.values()), palette=\"Blues_d\")\n",
    "plt.xticks(rotation=90,fontsize=14);\n",
    "plt.title('Top words in negative reviews',fontsize=20);\n",
    "plt.tight_layout();\n",
    "plt.savefig('word__freq_neg_rev.png')"
   ]
  },
  {
   "cell_type": "code",
   "execution_count": null,
   "metadata": {
    "colab": {
     "base_uri": "https://localhost:8080/"
    },
    "id": "uR8jXcl38djb",
    "outputId": "778ac788-6e8f-4c5e-d6aa-73aab43019ec"
   },
   "outputs": [],
   "source": [
    "# Just use top 10000 common words, these are words that show up at leadt 100 times in reviews\n",
    "top_10000_common_words_dic=dict(counter_total.most_common()[0:10000])\n",
    "\n",
    "top_10000_common_words_list=(list(top_10000_common_words_dic.keys()))\n",
    "print(len(top_10000_common_words_list))\n",
    "\n",
    "#index the words based on appearance in the most common order, the order of this indexing does not matter,\n",
    "# just need a rule to convert word to a number, but need to be conssitent through the study though\n",
    "\n",
    "word_to_index={}\n",
    "index_to_word={}\n",
    "\n",
    "for i,word in enumerate(top_10000_common_words_list):\n",
    "    word_to_index[word]=i\n",
    "    \n",
    "for word,i in word_to_index.items():\n",
    "    index_to_word[i]=word\n",
    "\n",
    "# {'br': 0, 'like': 1, 'good': 2, 'taste': 3, 'great': 4, 'coffee': 5, 'product': 6, 'flavor': 7, 'tea': 8, 'love': 9, 'will': 10, 'food': 11, 'use': 12\n",
    "#{0: 'br', 1: 'like', 2: 'good', 3: 'taste', 4: 'great', 5: 'coffee', 6: 'product', 7: 'flavor', 8: 'tea', 9: 'love', 10: 'will', 11: 'food', 12:"
   ]
  },
  {
   "cell_type": "code",
   "execution_count": null,
   "metadata": {
    "colab": {
     "base_uri": "https://localhost:8080/",
     "height": 82,
     "referenced_widgets": [
      "7a4e20dd0dac416a8b9e777de85e7f5d",
      "d8906e6f1de345afbd5b2e23e4f8f10c",
      "f3c62dd14070425b8110f27a0fa41dbf",
      "e4ccabe1dada448b8e66e8d01f149cfe",
      "58d91b95bc4e4e3ea80c3615566b11fb",
      "5433bf9df2634bdfaf3928cb2fa9fa57",
      "f8ac1e5e12d144a69869ca0b4d0ec219",
      "56108e14b163467096910bb9b4d20d84"
     ]
    },
    "id": "KZkX5VtS8dmu",
    "outputId": "d9305e37-1ad4-4a4e-f040-d429923874e7"
   },
   "outputs": [],
   "source": [
    "\n",
    "# making sure review is not null, and also get corresponding vectors for score, replace the words if they are in\n",
    "# top 10000 list with their index\n",
    "\n",
    "review_vec_index=[]\n",
    "review_label=[]\n",
    "review_score=[]\n",
    "\n",
    "for i in tqdm(range(len(review_vec))):\n",
    "    \n",
    "    len_rev=len(review_vec[i])\n",
    "    if(len_rev>0 and len_rev<1750):  #clean very short and very long reviews\n",
    "        indices = set()\n",
    "        for word in review_vec[i]:\n",
    "            if word in word_to_index.keys():\n",
    "                indices.add(word_to_index[word])\n",
    "        review_vec_index.append(list(indices))\n",
    "        review_label.append(score_vec[i])\n",
    "        review_score.append(actual_score_vec[i])\n",
    "                \n",
    "print(len(review_vec_index),len(review_label),len(review_score))"
   ]
  },
  {
   "cell_type": "code",
   "execution_count": null,
   "metadata": {
    "colab": {
     "base_uri": "https://localhost:8080/"
    },
    "id": "vSDnM0LZ8dpu",
    "outputId": "94d8cdd3-0126-4a4b-a059-a502ab9d53ad"
   },
   "outputs": [],
   "source": [
    "for i,review in enumerate(review_vec_index):\n",
    "    if(i<3):\n",
    "        print(i,review_vec_index[i],review_label[i],review_score[i])"
   ]
  },
  {
   "cell_type": "code",
   "execution_count": null,
   "metadata": {
    "id": "qggz89GQ8dsk"
   },
   "outputs": [],
   "source": [
    "#lists transford into array\n",
    "review_score=np.array(review_score)\n",
    "review_vec_index=np.array(review_vec_index)"
   ]
  },
  {
   "cell_type": "code",
   "execution_count": null,
   "metadata": {
    "colab": {
     "base_uri": "https://localhost:8080/",
     "height": 66,
     "referenced_widgets": [
      "7fc39e5148ff4f08b5c585ef2f6c1e52",
      "ccaa229680f540cfa60e8ff084076add",
      "eaf0db93f2d64c3e837543925c20dbbc",
      "a5457b42c9f14ea1a38a7fb73681cc04",
      "e3ed704e004a48598cc9b8395ade8ac2",
      "1298a998d50d442e9c89e6b91c81b976",
      "b593cdd3d2c84f4e93af64d86515f553",
      "bea289bc95dd48f982c97805dc3237fc"
     ]
    },
    "id": "4ZDQjXzf8dwG",
    "outputId": "82af78e4-7e16-4099-b566-eed0e4b788d4"
   },
   "outputs": [],
   "source": [
    "#Using even number of postive and negative reviews for classification¶\n",
    "#Due to uneven nature of \"5\" star reviews, only even number (75000) postive and negative reviews considerd\n",
    "#This contain all \"1\", \"2\" star review, part of \"4\" and portio of \"5\" stars. \"3\" stars due to it netural content not considered\n",
    "\n",
    "max_per_pos_neg=75000\n",
    "counter_pos=0\n",
    "counter_neg=0\n",
    "review_vec_index_even=[]\n",
    "review_label_even=[]\n",
    "review_score_even=[]\n",
    "\n",
    "for i in tqdm(range(len(review_score))):\n",
    "    if((review_score[i]==5 or review_score[i]==4) and counter_pos<max_per_pos_neg):\n",
    "        \n",
    "        review_vec_index_even.append(review_vec_index[i])\n",
    "        review_label_even.append(review_label[i])\n",
    "        review_score_even.append(review_score[i])\n",
    "        counter_pos=counter_pos+1\n",
    "        \n",
    "    if((review_score[i]==1 or review_score[i]==2) and counter_neg<max_per_pos_neg):\n",
    "        \n",
    "        review_vec_index_even.append(review_vec_index[i])\n",
    "        review_label_even.append(review_label[i])\n",
    "        review_score_even.append(review_score[i])"
   ]
  },
  {
   "cell_type": "code",
   "execution_count": null,
   "metadata": {
    "id": "M8j9B0BZ866q"
   },
   "outputs": [],
   "source": [
    "# padding the review\n",
    "review_vec_index_pad=sequence.pad_sequences(review_vec_index_even,maxlen=100)\n",
    "review_label=np.array(review_label_even)"
   ]
  },
  {
   "cell_type": "code",
   "execution_count": null,
   "metadata": {
    "id": "Te_X-Ku686-N"
   },
   "outputs": [],
   "source": [
    "#33% data kept for test, random state fixed for repeatability check\n",
    "X_train, X_test, y_train, y_test = train_test_split(review_vec_index_pad, review_label, test_size=0.33, random_state=42)\n",
    "\n",
    "#input data is saved\n",
    "model_data_input=pd.DataFrame(dict(X_even=review_vec_index_pad.tolist(),y_even=review_label)) #,'y_even':review_label})\n",
    "\n",
    "model_data_input.to_csv('model_data_input_even.csv',index=False)\n",
    "\n",
    "model_data_input=pd.read_csv('model_data_input_even.csv')\n",
    "\n",
    "review_vec_index_pad=model_data_input['X_even'].apply(lambda x: np.asarray(eval(x),dtype='int32')).values\n",
    "review_label=model_data_input['y_even'].values"
   ]
  },
  {
   "cell_type": "code",
   "execution_count": null,
   "metadata": {
    "colab": {
     "base_uri": "https://localhost:8080/"
    },
    "id": "vylCPNhO87Gh",
    "outputId": "67a4a2bf-7458-4bd7-9d4b-5015bd209da6"
   },
   "outputs": [],
   "source": [
    "\n",
    "# Architecture of the model\n",
    "\n",
    "max_feature=10000\n",
    "max_len=100\n",
    "embedding_dim=100\n",
    "\n",
    "model=Sequential()\n",
    "# embedding layer, map eah word index to a dense vector of size 100\n",
    "model.add(layers.Embedding(max_feature,embedding_dim,input_length=max_len)) \n",
    "# First GRU layer, input and output size same (100) , each vetor is 32\n",
    "model.add(layers.GRU(32,dropout=0.1,recurrent_dropout=0.5,return_sequences=True))\n",
    "# Second GRU layer, output size is 1 vector of size 64\n",
    "model.add(layers.GRU(64,activation='tanh',dropout=0.1,recurrent_dropout=0.5))\n",
    "# last layer is dense that move 64 size array to 1 with a dense layer and apply sigmoid on top\n",
    "model.add(layers.Dense(1,activation='sigmoid'))\n",
    "model.summary()"
   ]
  },
  {
   "cell_type": "code",
   "execution_count": null,
   "metadata": {
    "colab": {
     "base_uri": "https://localhost:8080/"
    },
    "id": "S3yFewF-9H5I",
    "outputId": "71c7e176-58c4-4f3d-d5ec-6c64f4f9f0a5"
   },
   "outputs": [],
   "source": [
    "# binary cross entropy and Adam optimizer with learning rate 0.001 with accuracy matrics chosen\n",
    "# model is also saved when validation set (20% of traning data) reaches a minimum in validation loss after each epoch\n",
    "# batch size is set to 128 review at a time\n",
    "\n",
    "model.compile(optimizer=Adam(lr=1e-3),loss='binary_crossentropy',metrics=['acc'])\n",
    "\n",
    "callbacks_list=[keras.callbacks.ModelCheckpoint(filepath='my_model_bestrun_gru.h5',save_best_only=True,verbose=1,)]\n",
    "history=model.fit(X_train,y_train,epochs=5,batch_size=128,validation_split=0.2,callbacks=callbacks_list)\n"
   ]
  },
  {
   "cell_type": "code",
   "execution_count": null,
   "metadata": {
    "colab": {
     "base_uri": "https://localhost:8080/"
    },
    "id": "OmpWOBLZ9K87",
    "outputId": "e49178a9-cb70-4360-bdab-27d76eea0edd"
   },
   "outputs": [],
   "source": [
    "# final model saved\n",
    "model.save('my_model_endrun_gru.h5')\n",
    "model_endrun_gru = keras.models.load_model('my_model_endrun_gru.h5')\n",
    "\n",
    "# accuracy on test data\n",
    "model_endrun_gru.evaluate(X_test,y_test)"
   ]
  },
  {
   "cell_type": "code",
   "execution_count": null,
   "metadata": {
    "colab": {
     "base_uri": "https://localhost:8080/"
    },
    "id": "xYsTnUr_9M-W",
    "outputId": "82b01daa-c7d2-4103-da6a-6705d57b11b1"
   },
   "outputs": [],
   "source": [
    "# best model saved (minimum validation loss)\n",
    "model_bestrun_gru = keras.models.load_model('my_model_bestrun_gru.h5')\n",
    "\n",
    "model_bestrun_gru.evaluate(X_test,y_test)"
   ]
  },
  {
   "cell_type": "code",
   "execution_count": null,
   "metadata": {
    "colab": {
     "base_uri": "https://localhost:8080/",
     "height": 583
    },
    "id": "Ts0B3UQQ9QhN",
    "outputId": "a4e78dc8-1226-4dd1-817b-f65d3f6a4507"
   },
   "outputs": [],
   "source": [
    "\n",
    "# run history for Train and validation set, Accuracy and Loss\n",
    "\n",
    "list_epoch=np.arange(0,5)\n",
    "plt.plot(list_epoch,history.history['loss'])\n",
    "plt.plot(list_epoch,history.history['val_loss'])\n",
    "plt.ylabel('Loss',fontsize=14)\n",
    "plt.xlabel('epoch',fontsize=14)\n",
    "plt.grid(linewidth=0.5,alpha=0.75)\n",
    "plt.legend(['train_loss','val_loss'],fontsize=12)\n",
    "plt.title('Loss (train/validation) vs. number of epochs',fontsize=14)\n",
    "plt.savefig('loss_epoch.png')\n",
    "plt.show()\n",
    "\n",
    "\n",
    "plt.plot(list_epoch,history.history['acc'])\n",
    "plt.plot(list_epoch,history.history['val_acc'])\n",
    "plt.ylabel('Accuracy',fontsize=14)\n",
    "plt.legend(['train_acc','val_acc'],fontsize=12)\n",
    "plt.grid(linewidth=0.5,alpha=0.75)\n",
    "plt.title('Accuracy (train/validation) vs. number of epochs',fontsize=14)\n",
    "plt.xlabel('epoch',fontsize=14)\n",
    "plt.savefig('accuracy_epoch.png')\n",
    "plt.show()"
   ]
  },
  {
   "cell_type": "code",
   "execution_count": null,
   "metadata": {
    "id": "ZOzVLPSn9VEY"
   },
   "outputs": [],
   "source": [
    "# Getting the weights of the embedding layer for further analysis on word structures\n",
    "embedding_matrix=model_bestrun_gru.layers[0].get_weights()[0]\n",
    "\n",
    "#Saving prediction for test data \n",
    "prediction=model_bestrun_gru.predict(X_test)\n",
    "\n",
    "#saving probability for test data, used for AUC\n",
    "prediction_proba=model_bestrun_gru.predict_proba(X_test)\n",
    "\n",
    "# rounding the test prediction \n",
    "prediction_round=np.round(prediction)\n",
    "y_test_vec=y_test.reshape(y_test.shape[0],1)"
   ]
  },
  {
   "cell_type": "code",
   "execution_count": null,
   "metadata": {
    "colab": {
     "base_uri": "https://localhost:8080/"
    },
    "id": "F9xn6uJD9Zkn",
    "outputId": "703732d1-71ac-468a-b3d9-d3905f8a1274"
   },
   "outputs": [],
   "source": [
    "\n",
    "# Test accuracy\n",
    "print('Accuracy:',(y_test_vec==prediction_round).mean())\n",
    "\n",
    "\n",
    "from sklearn.metrics import f1_score,accuracy_score,auc,confusion_matrix,roc_curve,roc_auc_score\n",
    "\n",
    "# Test metrics, accuracy, confusion matrix and F1 score\n",
    "\n",
    "print('Accuracy: \\n \\n%0.2f'%accuracy_score(y_test_vec, prediction_round))\n",
    "print('\\nconfusion matrix: \\n \\n',confusion_matrix(y_test_vec, prediction_round))\n",
    "print('\\nF1 score: \\n \\n%0.2f' % f1_score(y_test_vec, prediction_round))"
   ]
  },
  {
   "cell_type": "code",
   "execution_count": null,
   "metadata": {
    "colab": {
     "base_uri": "https://localhost:8080/"
    },
    "id": "1aBpn8THhvmJ",
    "outputId": "33cda251-c614-499c-ebf4-8e9d618d872d"
   },
   "outputs": [],
   "source": [
    "import re\n",
    "import string\n",
    "import spacy\n",
    "import gensim\n",
    "from gensim import corpora\n",
    "\n",
    "!pip install pyLDAvis\n",
    "# libraries for visualization\n",
    "import pyLDAvis\n",
    "import pyLDAvis.gensim_models as gensimvis\n",
    "pyLDAvis.enable_notebook()\n",
    "import matplotlib.pyplot as plt\n",
    "import seaborn as sns\n",
    "%matplotlib inline"
   ]
  },
  {
   "cell_type": "code",
   "execution_count": null,
   "metadata": {
    "id": "JPhPadMAlqGz"
   },
   "outputs": [],
   "source": [
    "df=pd.read_csv('/content/drive/MyDrive/Reviews.csv')\n",
    "import nltk\n",
    "\n",
    "df = df.sample(n=20000)\n",
    "from gensim.parsing.preprocessing import strip_tags, strip_punctuation, strip_multiple_whitespaces, strip_numeric, remove_stopwords, strip_short, preprocess_string\n",
    "\n",
    "lemmatizer = nltk.stem.wordnet.WordNetLemmatizer()\n",
    "\n",
    "df['Text_tokenized'] = df['Text'].apply(lambda text: preprocess_string(text, [\n",
    "    strip_tags, strip_punctuation, strip_multiple_whitespaces, strip_numeric, remove_stopwords, strip_short, lemmatizer.lemmatize, lambda x: x.lower()\n",
    "]))"
   ]
  },
  {
   "cell_type": "code",
   "execution_count": null,
   "metadata": {
    "colab": {
     "base_uri": "https://localhost:8080/"
    },
    "id": "6RKTIZDem1Tq",
    "outputId": "ddf14b2f-389c-485a-a284-05dd668394f2"
   },
   "outputs": [],
   "source": [
    "df['Text_tokenized'].sample(n=20)"
   ]
  },
  {
   "cell_type": "code",
   "execution_count": null,
   "metadata": {
    "id": "reWtFmUHl47-"
   },
   "outputs": [],
   "source": [
    "import gensim\n",
    "\n",
    "dictionary = gensim.corpora.Dictionary(df['Text_tokenized'].values)"
   ]
  },
  {
   "cell_type": "code",
   "execution_count": null,
   "metadata": {
    "id": "FGRKlZ8Xm9Ee"
   },
   "outputs": [],
   "source": [
    "dictionary.filter_extremes(no_below=20, no_above=0.5)"
   ]
  },
  {
   "cell_type": "code",
   "execution_count": null,
   "metadata": {
    "id": "2GMVVZ2Ym-4x"
   },
   "outputs": [],
   "source": [
    "corpus = [dictionary.doc2bow(doc) for doc in df['Text_tokenized'].values]"
   ]
  },
  {
   "cell_type": "code",
   "execution_count": null,
   "metadata": {
    "colab": {
     "base_uri": "https://localhost:8080/"
    },
    "id": "pj2TUDV5nBea",
    "outputId": "c79c0b13-0263-4268-a44f-1584cec9f7b6"
   },
   "outputs": [],
   "source": [
    "print('Number of unique tokens: %d' % len(dictionary))\n",
    "print('Number of documents: %d' % len(corpus))"
   ]
  },
  {
   "cell_type": "code",
   "execution_count": null,
   "metadata": {
    "colab": {
     "base_uri": "https://localhost:8080/"
    },
    "id": "6IMVkKTEnGyz",
    "outputId": "38906438-370f-482f-89df-7d4ff500161b"
   },
   "outputs": [],
   "source": [
    "%%time \n",
    "import logging\n",
    "model = gensim.models.ldamulticore.LdaMulticore(corpus, id2word=dictionary, passes=10)"
   ]
  },
  {
   "cell_type": "code",
   "execution_count": null,
   "metadata": {
    "colab": {
     "base_uri": "https://localhost:8080/"
    },
    "id": "gt1PYnvlnKQI",
    "outputId": "1f2071d0-b171-47eb-9fc2-1c226147b94b"
   },
   "outputs": [],
   "source": [
    "%%time\n",
    "\n",
    "#!pip install pyLDAvis\n",
    "\n",
    "# Around 30s for 100topics, 15s for 10 topics\n",
    "import pyLDAvis\n",
    "import pyLDAvis.gensim_models as gensimvis\n",
    "pyLDAvis.enable_notebook()\n",
    "\n",
    "prep_display = gensimvis.prepare(model, corpus, dictionary)\n",
    "pyLDAvis.display(prep_display)"
   ]
  }
 ],
 "metadata": {
  "accelerator": "GPU",
  "colab": {
   "collapsed_sections": [
    "DWJG3Apge1eM",
    "d-1jB4zFkBmU",
    "uXviyqadmbQK",
    "q1lzCgdXhpI1"
   ],
   "name": "BAN200-Project-Amazon Food Reviews.ipynb",
   "provenance": []
  },
  "kernelspec": {
   "display_name": "Python 3",
   "language": "python",
   "name": "python3"
  },
  "language_info": {
   "codemirror_mode": {
    "name": "ipython",
    "version": 3
   },
   "file_extension": ".py",
   "mimetype": "text/x-python",
   "name": "python",
   "nbconvert_exporter": "python",
   "pygments_lexer": "ipython3",
   "version": "3.8.8"
  },
  "widgets": {
   "application/vnd.jupyter.widget-state+json": {
    "032d5c49d225422fb2c4c990f03e55d2": {
     "model_module": "@jupyter-widgets/controls",
     "model_name": "DescriptionStyleModel",
     "state": {
      "_model_module": "@jupyter-widgets/controls",
      "_model_module_version": "1.5.0",
      "_model_name": "DescriptionStyleModel",
      "_view_count": null,
      "_view_module": "@jupyter-widgets/base",
      "_view_module_version": "1.2.0",
      "_view_name": "StyleView",
      "description_width": ""
     }
    },
    "1298a998d50d442e9c89e6b91c81b976": {
     "model_module": "@jupyter-widgets/base",
     "model_name": "LayoutModel",
     "state": {
      "_model_module": "@jupyter-widgets/base",
      "_model_module_version": "1.2.0",
      "_model_name": "LayoutModel",
      "_view_count": null,
      "_view_module": "@jupyter-widgets/base",
      "_view_module_version": "1.2.0",
      "_view_name": "LayoutView",
      "align_content": null,
      "align_items": null,
      "align_self": null,
      "border": null,
      "bottom": null,
      "display": null,
      "flex": null,
      "flex_flow": null,
      "grid_area": null,
      "grid_auto_columns": null,
      "grid_auto_flow": null,
      "grid_auto_rows": null,
      "grid_column": null,
      "grid_gap": null,
      "grid_row": null,
      "grid_template_areas": null,
      "grid_template_columns": null,
      "grid_template_rows": null,
      "height": null,
      "justify_content": null,
      "justify_items": null,
      "left": null,
      "margin": null,
      "max_height": null,
      "max_width": null,
      "min_height": null,
      "min_width": null,
      "object_fit": null,
      "object_position": null,
      "order": null,
      "overflow": null,
      "overflow_x": null,
      "overflow_y": null,
      "padding": null,
      "right": null,
      "top": null,
      "visibility": null,
      "width": null
     }
    },
    "2b17f29772684d4fa269d6fe132056de": {
     "model_module": "@jupyter-widgets/controls",
     "model_name": "ProgressStyleModel",
     "state": {
      "_model_module": "@jupyter-widgets/controls",
      "_model_module_version": "1.5.0",
      "_model_name": "ProgressStyleModel",
      "_view_count": null,
      "_view_module": "@jupyter-widgets/base",
      "_view_module_version": "1.2.0",
      "_view_name": "StyleView",
      "bar_color": null,
      "description_width": "initial"
     }
    },
    "33d1a0b7ae334091b2331be8fa905206": {
     "model_module": "@jupyter-widgets/base",
     "model_name": "LayoutModel",
     "state": {
      "_model_module": "@jupyter-widgets/base",
      "_model_module_version": "1.2.0",
      "_model_name": "LayoutModel",
      "_view_count": null,
      "_view_module": "@jupyter-widgets/base",
      "_view_module_version": "1.2.0",
      "_view_name": "LayoutView",
      "align_content": null,
      "align_items": null,
      "align_self": null,
      "border": null,
      "bottom": null,
      "display": null,
      "flex": null,
      "flex_flow": null,
      "grid_area": null,
      "grid_auto_columns": null,
      "grid_auto_flow": null,
      "grid_auto_rows": null,
      "grid_column": null,
      "grid_gap": null,
      "grid_row": null,
      "grid_template_areas": null,
      "grid_template_columns": null,
      "grid_template_rows": null,
      "height": null,
      "justify_content": null,
      "justify_items": null,
      "left": null,
      "margin": null,
      "max_height": null,
      "max_width": null,
      "min_height": null,
      "min_width": null,
      "object_fit": null,
      "object_position": null,
      "order": null,
      "overflow": null,
      "overflow_x": null,
      "overflow_y": null,
      "padding": null,
      "right": null,
      "top": null,
      "visibility": null,
      "width": null
     }
    },
    "5433bf9df2634bdfaf3928cb2fa9fa57": {
     "model_module": "@jupyter-widgets/base",
     "model_name": "LayoutModel",
     "state": {
      "_model_module": "@jupyter-widgets/base",
      "_model_module_version": "1.2.0",
      "_model_name": "LayoutModel",
      "_view_count": null,
      "_view_module": "@jupyter-widgets/base",
      "_view_module_version": "1.2.0",
      "_view_name": "LayoutView",
      "align_content": null,
      "align_items": null,
      "align_self": null,
      "border": null,
      "bottom": null,
      "display": null,
      "flex": null,
      "flex_flow": null,
      "grid_area": null,
      "grid_auto_columns": null,
      "grid_auto_flow": null,
      "grid_auto_rows": null,
      "grid_column": null,
      "grid_gap": null,
      "grid_row": null,
      "grid_template_areas": null,
      "grid_template_columns": null,
      "grid_template_rows": null,
      "height": null,
      "justify_content": null,
      "justify_items": null,
      "left": null,
      "margin": null,
      "max_height": null,
      "max_width": null,
      "min_height": null,
      "min_width": null,
      "object_fit": null,
      "object_position": null,
      "order": null,
      "overflow": null,
      "overflow_x": null,
      "overflow_y": null,
      "padding": null,
      "right": null,
      "top": null,
      "visibility": null,
      "width": null
     }
    },
    "55a54d270cb24a2593f9f314fa4ce37e": {
     "model_module": "@jupyter-widgets/controls",
     "model_name": "HTMLModel",
     "state": {
      "_dom_classes": [],
      "_model_module": "@jupyter-widgets/controls",
      "_model_module_version": "1.5.0",
      "_model_name": "HTMLModel",
      "_view_count": null,
      "_view_module": "@jupyter-widgets/controls",
      "_view_module_version": "1.5.0",
      "_view_name": "HTMLView",
      "description": "",
      "description_tooltip": null,
      "layout": "IPY_MODEL_7f707287dfb34a888f83bd25a857601b",
      "placeholder": "​",
      "style": "IPY_MODEL_032d5c49d225422fb2c4c990f03e55d2",
      "value": " 560388/560388 [02:43&lt;00:00, 3421.55it/s]"
     }
    },
    "56108e14b163467096910bb9b4d20d84": {
     "model_module": "@jupyter-widgets/base",
     "model_name": "LayoutModel",
     "state": {
      "_model_module": "@jupyter-widgets/base",
      "_model_module_version": "1.2.0",
      "_model_name": "LayoutModel",
      "_view_count": null,
      "_view_module": "@jupyter-widgets/base",
      "_view_module_version": "1.2.0",
      "_view_name": "LayoutView",
      "align_content": null,
      "align_items": null,
      "align_self": null,
      "border": null,
      "bottom": null,
      "display": null,
      "flex": null,
      "flex_flow": null,
      "grid_area": null,
      "grid_auto_columns": null,
      "grid_auto_flow": null,
      "grid_auto_rows": null,
      "grid_column": null,
      "grid_gap": null,
      "grid_row": null,
      "grid_template_areas": null,
      "grid_template_columns": null,
      "grid_template_rows": null,
      "height": null,
      "justify_content": null,
      "justify_items": null,
      "left": null,
      "margin": null,
      "max_height": null,
      "max_width": null,
      "min_height": null,
      "min_width": null,
      "object_fit": null,
      "object_position": null,
      "order": null,
      "overflow": null,
      "overflow_x": null,
      "overflow_y": null,
      "padding": null,
      "right": null,
      "top": null,
      "visibility": null,
      "width": null
     }
    },
    "58d91b95bc4e4e3ea80c3615566b11fb": {
     "model_module": "@jupyter-widgets/controls",
     "model_name": "ProgressStyleModel",
     "state": {
      "_model_module": "@jupyter-widgets/controls",
      "_model_module_version": "1.5.0",
      "_model_name": "ProgressStyleModel",
      "_view_count": null,
      "_view_module": "@jupyter-widgets/base",
      "_view_module_version": "1.2.0",
      "_view_name": "StyleView",
      "bar_color": null,
      "description_width": "initial"
     }
    },
    "7a4e20dd0dac416a8b9e777de85e7f5d": {
     "model_module": "@jupyter-widgets/controls",
     "model_name": "HBoxModel",
     "state": {
      "_dom_classes": [],
      "_model_module": "@jupyter-widgets/controls",
      "_model_module_version": "1.5.0",
      "_model_name": "HBoxModel",
      "_view_count": null,
      "_view_module": "@jupyter-widgets/controls",
      "_view_module_version": "1.5.0",
      "_view_name": "HBoxView",
      "box_style": "",
      "children": [
       "IPY_MODEL_f3c62dd14070425b8110f27a0fa41dbf",
       "IPY_MODEL_e4ccabe1dada448b8e66e8d01f149cfe"
      ],
      "layout": "IPY_MODEL_d8906e6f1de345afbd5b2e23e4f8f10c"
     }
    },
    "7f707287dfb34a888f83bd25a857601b": {
     "model_module": "@jupyter-widgets/base",
     "model_name": "LayoutModel",
     "state": {
      "_model_module": "@jupyter-widgets/base",
      "_model_module_version": "1.2.0",
      "_model_name": "LayoutModel",
      "_view_count": null,
      "_view_module": "@jupyter-widgets/base",
      "_view_module_version": "1.2.0",
      "_view_name": "LayoutView",
      "align_content": null,
      "align_items": null,
      "align_self": null,
      "border": null,
      "bottom": null,
      "display": null,
      "flex": null,
      "flex_flow": null,
      "grid_area": null,
      "grid_auto_columns": null,
      "grid_auto_flow": null,
      "grid_auto_rows": null,
      "grid_column": null,
      "grid_gap": null,
      "grid_row": null,
      "grid_template_areas": null,
      "grid_template_columns": null,
      "grid_template_rows": null,
      "height": null,
      "justify_content": null,
      "justify_items": null,
      "left": null,
      "margin": null,
      "max_height": null,
      "max_width": null,
      "min_height": null,
      "min_width": null,
      "object_fit": null,
      "object_position": null,
      "order": null,
      "overflow": null,
      "overflow_x": null,
      "overflow_y": null,
      "padding": null,
      "right": null,
      "top": null,
      "visibility": null,
      "width": null
     }
    },
    "7fc39e5148ff4f08b5c585ef2f6c1e52": {
     "model_module": "@jupyter-widgets/controls",
     "model_name": "HBoxModel",
     "state": {
      "_dom_classes": [],
      "_model_module": "@jupyter-widgets/controls",
      "_model_module_version": "1.5.0",
      "_model_name": "HBoxModel",
      "_view_count": null,
      "_view_module": "@jupyter-widgets/controls",
      "_view_module_version": "1.5.0",
      "_view_name": "HBoxView",
      "box_style": "",
      "children": [
       "IPY_MODEL_eaf0db93f2d64c3e837543925c20dbbc",
       "IPY_MODEL_a5457b42c9f14ea1a38a7fb73681cc04"
      ],
      "layout": "IPY_MODEL_ccaa229680f540cfa60e8ff084076add"
     }
    },
    "a5457b42c9f14ea1a38a7fb73681cc04": {
     "model_module": "@jupyter-widgets/controls",
     "model_name": "HTMLModel",
     "state": {
      "_dom_classes": [],
      "_model_module": "@jupyter-widgets/controls",
      "_model_module_version": "1.5.0",
      "_model_name": "HTMLModel",
      "_view_count": null,
      "_view_module": "@jupyter-widgets/controls",
      "_view_module_version": "1.5.0",
      "_view_name": "HTMLView",
      "description": "",
      "description_tooltip": null,
      "layout": "IPY_MODEL_bea289bc95dd48f982c97805dc3237fc",
      "placeholder": "​",
      "style": "IPY_MODEL_b593cdd3d2c84f4e93af64d86515f553",
      "value": " 560380/560380 [00:41&lt;00:00, 13428.08it/s]"
     }
    },
    "b4148b41c45e48a9a7a98e1bd1416dbe": {
     "model_module": "@jupyter-widgets/base",
     "model_name": "LayoutModel",
     "state": {
      "_model_module": "@jupyter-widgets/base",
      "_model_module_version": "1.2.0",
      "_model_name": "LayoutModel",
      "_view_count": null,
      "_view_module": "@jupyter-widgets/base",
      "_view_module_version": "1.2.0",
      "_view_name": "LayoutView",
      "align_content": null,
      "align_items": null,
      "align_self": null,
      "border": null,
      "bottom": null,
      "display": null,
      "flex": null,
      "flex_flow": null,
      "grid_area": null,
      "grid_auto_columns": null,
      "grid_auto_flow": null,
      "grid_auto_rows": null,
      "grid_column": null,
      "grid_gap": null,
      "grid_row": null,
      "grid_template_areas": null,
      "grid_template_columns": null,
      "grid_template_rows": null,
      "height": null,
      "justify_content": null,
      "justify_items": null,
      "left": null,
      "margin": null,
      "max_height": null,
      "max_width": null,
      "min_height": null,
      "min_width": null,
      "object_fit": null,
      "object_position": null,
      "order": null,
      "overflow": null,
      "overflow_x": null,
      "overflow_y": null,
      "padding": null,
      "right": null,
      "top": null,
      "visibility": null,
      "width": null
     }
    },
    "b593cdd3d2c84f4e93af64d86515f553": {
     "model_module": "@jupyter-widgets/controls",
     "model_name": "DescriptionStyleModel",
     "state": {
      "_model_module": "@jupyter-widgets/controls",
      "_model_module_version": "1.5.0",
      "_model_name": "DescriptionStyleModel",
      "_view_count": null,
      "_view_module": "@jupyter-widgets/base",
      "_view_module_version": "1.2.0",
      "_view_name": "StyleView",
      "description_width": ""
     }
    },
    "bafdd750e39e4a0a98d62edad5af41dc": {
     "model_module": "@jupyter-widgets/controls",
     "model_name": "HBoxModel",
     "state": {
      "_dom_classes": [],
      "_model_module": "@jupyter-widgets/controls",
      "_model_module_version": "1.5.0",
      "_model_name": "HBoxModel",
      "_view_count": null,
      "_view_module": "@jupyter-widgets/controls",
      "_view_module_version": "1.5.0",
      "_view_name": "HBoxView",
      "box_style": "",
      "children": [
       "IPY_MODEL_ec797cf0426946c6b52f84cef601efab",
       "IPY_MODEL_55a54d270cb24a2593f9f314fa4ce37e"
      ],
      "layout": "IPY_MODEL_33d1a0b7ae334091b2331be8fa905206"
     }
    },
    "bea289bc95dd48f982c97805dc3237fc": {
     "model_module": "@jupyter-widgets/base",
     "model_name": "LayoutModel",
     "state": {
      "_model_module": "@jupyter-widgets/base",
      "_model_module_version": "1.2.0",
      "_model_name": "LayoutModel",
      "_view_count": null,
      "_view_module": "@jupyter-widgets/base",
      "_view_module_version": "1.2.0",
      "_view_name": "LayoutView",
      "align_content": null,
      "align_items": null,
      "align_self": null,
      "border": null,
      "bottom": null,
      "display": null,
      "flex": null,
      "flex_flow": null,
      "grid_area": null,
      "grid_auto_columns": null,
      "grid_auto_flow": null,
      "grid_auto_rows": null,
      "grid_column": null,
      "grid_gap": null,
      "grid_row": null,
      "grid_template_areas": null,
      "grid_template_columns": null,
      "grid_template_rows": null,
      "height": null,
      "justify_content": null,
      "justify_items": null,
      "left": null,
      "margin": null,
      "max_height": null,
      "max_width": null,
      "min_height": null,
      "min_width": null,
      "object_fit": null,
      "object_position": null,
      "order": null,
      "overflow": null,
      "overflow_x": null,
      "overflow_y": null,
      "padding": null,
      "right": null,
      "top": null,
      "visibility": null,
      "width": null
     }
    },
    "ccaa229680f540cfa60e8ff084076add": {
     "model_module": "@jupyter-widgets/base",
     "model_name": "LayoutModel",
     "state": {
      "_model_module": "@jupyter-widgets/base",
      "_model_module_version": "1.2.0",
      "_model_name": "LayoutModel",
      "_view_count": null,
      "_view_module": "@jupyter-widgets/base",
      "_view_module_version": "1.2.0",
      "_view_name": "LayoutView",
      "align_content": null,
      "align_items": null,
      "align_self": null,
      "border": null,
      "bottom": null,
      "display": null,
      "flex": null,
      "flex_flow": null,
      "grid_area": null,
      "grid_auto_columns": null,
      "grid_auto_flow": null,
      "grid_auto_rows": null,
      "grid_column": null,
      "grid_gap": null,
      "grid_row": null,
      "grid_template_areas": null,
      "grid_template_columns": null,
      "grid_template_rows": null,
      "height": null,
      "justify_content": null,
      "justify_items": null,
      "left": null,
      "margin": null,
      "max_height": null,
      "max_width": null,
      "min_height": null,
      "min_width": null,
      "object_fit": null,
      "object_position": null,
      "order": null,
      "overflow": null,
      "overflow_x": null,
      "overflow_y": null,
      "padding": null,
      "right": null,
      "top": null,
      "visibility": null,
      "width": null
     }
    },
    "d8906e6f1de345afbd5b2e23e4f8f10c": {
     "model_module": "@jupyter-widgets/base",
     "model_name": "LayoutModel",
     "state": {
      "_model_module": "@jupyter-widgets/base",
      "_model_module_version": "1.2.0",
      "_model_name": "LayoutModel",
      "_view_count": null,
      "_view_module": "@jupyter-widgets/base",
      "_view_module_version": "1.2.0",
      "_view_name": "LayoutView",
      "align_content": null,
      "align_items": null,
      "align_self": null,
      "border": null,
      "bottom": null,
      "display": null,
      "flex": null,
      "flex_flow": null,
      "grid_area": null,
      "grid_auto_columns": null,
      "grid_auto_flow": null,
      "grid_auto_rows": null,
      "grid_column": null,
      "grid_gap": null,
      "grid_row": null,
      "grid_template_areas": null,
      "grid_template_columns": null,
      "grid_template_rows": null,
      "height": null,
      "justify_content": null,
      "justify_items": null,
      "left": null,
      "margin": null,
      "max_height": null,
      "max_width": null,
      "min_height": null,
      "min_width": null,
      "object_fit": null,
      "object_position": null,
      "order": null,
      "overflow": null,
      "overflow_x": null,
      "overflow_y": null,
      "padding": null,
      "right": null,
      "top": null,
      "visibility": null,
      "width": null
     }
    },
    "e3ed704e004a48598cc9b8395ade8ac2": {
     "model_module": "@jupyter-widgets/controls",
     "model_name": "ProgressStyleModel",
     "state": {
      "_model_module": "@jupyter-widgets/controls",
      "_model_module_version": "1.5.0",
      "_model_name": "ProgressStyleModel",
      "_view_count": null,
      "_view_module": "@jupyter-widgets/base",
      "_view_module_version": "1.2.0",
      "_view_name": "StyleView",
      "bar_color": null,
      "description_width": "initial"
     }
    },
    "e4ccabe1dada448b8e66e8d01f149cfe": {
     "model_module": "@jupyter-widgets/controls",
     "model_name": "HTMLModel",
     "state": {
      "_dom_classes": [],
      "_model_module": "@jupyter-widgets/controls",
      "_model_module_version": "1.5.0",
      "_model_name": "HTMLModel",
      "_view_count": null,
      "_view_module": "@jupyter-widgets/controls",
      "_view_module_version": "1.5.0",
      "_view_name": "HTMLView",
      "description": "",
      "description_tooltip": null,
      "layout": "IPY_MODEL_56108e14b163467096910bb9b4d20d84",
      "placeholder": "​",
      "style": "IPY_MODEL_f8ac1e5e12d144a69869ca0b4d0ec219",
      "value": " 560388/560388 [02:35&lt;00:00, 3614.26it/s]"
     }
    },
    "eaf0db93f2d64c3e837543925c20dbbc": {
     "model_module": "@jupyter-widgets/controls",
     "model_name": "FloatProgressModel",
     "state": {
      "_dom_classes": [],
      "_model_module": "@jupyter-widgets/controls",
      "_model_module_version": "1.5.0",
      "_model_name": "FloatProgressModel",
      "_view_count": null,
      "_view_module": "@jupyter-widgets/controls",
      "_view_module_version": "1.5.0",
      "_view_name": "ProgressView",
      "bar_style": "success",
      "description": "100%",
      "description_tooltip": null,
      "layout": "IPY_MODEL_1298a998d50d442e9c89e6b91c81b976",
      "max": 560380,
      "min": 0,
      "orientation": "horizontal",
      "style": "IPY_MODEL_e3ed704e004a48598cc9b8395ade8ac2",
      "value": 560380
     }
    },
    "ec797cf0426946c6b52f84cef601efab": {
     "model_module": "@jupyter-widgets/controls",
     "model_name": "FloatProgressModel",
     "state": {
      "_dom_classes": [],
      "_model_module": "@jupyter-widgets/controls",
      "_model_module_version": "1.5.0",
      "_model_name": "FloatProgressModel",
      "_view_count": null,
      "_view_module": "@jupyter-widgets/controls",
      "_view_module_version": "1.5.0",
      "_view_name": "ProgressView",
      "bar_style": "success",
      "description": "100%",
      "description_tooltip": null,
      "layout": "IPY_MODEL_b4148b41c45e48a9a7a98e1bd1416dbe",
      "max": 560388,
      "min": 0,
      "orientation": "horizontal",
      "style": "IPY_MODEL_2b17f29772684d4fa269d6fe132056de",
      "value": 560388
     }
    },
    "f3c62dd14070425b8110f27a0fa41dbf": {
     "model_module": "@jupyter-widgets/controls",
     "model_name": "FloatProgressModel",
     "state": {
      "_dom_classes": [],
      "_model_module": "@jupyter-widgets/controls",
      "_model_module_version": "1.5.0",
      "_model_name": "FloatProgressModel",
      "_view_count": null,
      "_view_module": "@jupyter-widgets/controls",
      "_view_module_version": "1.5.0",
      "_view_name": "ProgressView",
      "bar_style": "success",
      "description": "100%",
      "description_tooltip": null,
      "layout": "IPY_MODEL_5433bf9df2634bdfaf3928cb2fa9fa57",
      "max": 560388,
      "min": 0,
      "orientation": "horizontal",
      "style": "IPY_MODEL_58d91b95bc4e4e3ea80c3615566b11fb",
      "value": 560388
     }
    },
    "f8ac1e5e12d144a69869ca0b4d0ec219": {
     "model_module": "@jupyter-widgets/controls",
     "model_name": "DescriptionStyleModel",
     "state": {
      "_model_module": "@jupyter-widgets/controls",
      "_model_module_version": "1.5.0",
      "_model_name": "DescriptionStyleModel",
      "_view_count": null,
      "_view_module": "@jupyter-widgets/base",
      "_view_module_version": "1.2.0",
      "_view_name": "StyleView",
      "description_width": ""
     }
    }
   }
  }
 },
 "nbformat": 4,
 "nbformat_minor": 1
}
